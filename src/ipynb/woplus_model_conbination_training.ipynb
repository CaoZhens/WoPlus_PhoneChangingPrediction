{
 "cells": [
  {
   "cell_type": "code",
   "execution_count": 2,
   "metadata": {
    "collapsed": true
   },
   "outputs": [],
   "source": [
    "import numpy as np\n",
    "import pandas as pd\n",
    "import scipy.stats as st\n",
    "import time\n",
    "import matplotlib.pyplot as plt\n",
    "%matplotlib inline\n",
    "title = 'woplus'\n",
    "path = '../../sources/data'\n",
    "\n",
    "trainset_name = 'fe3_2-2-1'"
   ]
  },
  {
   "cell_type": "code",
   "execution_count": 4,
   "metadata": {
    "collapsed": false
   },
   "outputs": [
    {
     "data": {
      "text/plain": [
       "0    0.818865\n",
       "1    0.181135\n",
       "Name: Flag, dtype: float64"
      ]
     },
     "execution_count": 4,
     "metadata": {},
     "output_type": "execute_result"
    }
   ],
   "source": [
    "df_train_f = pd.read_hdf('../../sources/deal/{}.h5'.format(trainset_name), key = trainset_name)\n",
    "# 计算训练集正负样本比例\n",
    "st = df_train_f.Flag.value_counts()\n",
    "st.div(st.sum())"
   ]
  },
  {
   "cell_type": "code",
   "execution_count": 5,
   "metadata": {
    "collapsed": false
   },
   "outputs": [
    {
     "data": {
      "text/html": [
       "<div>\n",
       "<style>\n",
       "    .dataframe thead tr:only-child th {\n",
       "        text-align: right;\n",
       "    }\n",
       "\n",
       "    .dataframe thead th {\n",
       "        text-align: left;\n",
       "    }\n",
       "\n",
       "    .dataframe tbody tr th {\n",
       "        vertical-align: top;\n",
       "    }\n",
       "</style>\n",
       "<table border=\"1\" class=\"dataframe\">\n",
       "  <thead>\n",
       "    <tr style=\"text-align: right;\">\n",
       "      <th></th>\n",
       "      <th>net</th>\n",
       "      <th>age_17岁以下</th>\n",
       "      <th>age_18-22</th>\n",
       "      <th>age_23-25</th>\n",
       "      <th>age_26-29</th>\n",
       "      <th>age_30-39</th>\n",
       "      <th>age_40-49</th>\n",
       "      <th>age_50-59</th>\n",
       "      <th>age_60以上</th>\n",
       "      <th>sex_不详</th>\n",
       "      <th>...</th>\n",
       "      <th>salestimediff_cat_(1440, 1800]</th>\n",
       "      <th>salestimediff_cat_(1800, 2160]</th>\n",
       "      <th>salestimediff_cat_(2160, 2520]</th>\n",
       "      <th>salestimediff_cat_(2520, 2880]</th>\n",
       "      <th>salestimediff_cat_(2880, 3240]</th>\n",
       "      <th>salestimediff_cat_(3240, 3600]</th>\n",
       "      <th>salestimediff_cat_(3600, 3960]</th>\n",
       "      <th>salestimediff_cat_(3960, 4320]</th>\n",
       "      <th>salestimediff_cat_(4320, 4680]</th>\n",
       "      <th>Flag</th>\n",
       "    </tr>\n",
       "  </thead>\n",
       "  <tbody>\n",
       "    <tr>\n",
       "      <th>0</th>\n",
       "      <td>-1.285664</td>\n",
       "      <td>-0.210748</td>\n",
       "      <td>-0.169149</td>\n",
       "      <td>-0.198993</td>\n",
       "      <td>-0.28939</td>\n",
       "      <td>1.241278</td>\n",
       "      <td>-0.480494</td>\n",
       "      <td>-0.385466</td>\n",
       "      <td>-0.340289</td>\n",
       "      <td>-0.139559</td>\n",
       "      <td>...</td>\n",
       "      <td>-0.236911</td>\n",
       "      <td>-0.147399</td>\n",
       "      <td>-0.089668</td>\n",
       "      <td>-0.042028</td>\n",
       "      <td>-0.064122</td>\n",
       "      <td>-0.071056</td>\n",
       "      <td>-0.048687</td>\n",
       "      <td>-0.004079</td>\n",
       "      <td>-0.001665</td>\n",
       "      <td>0</td>\n",
       "    </tr>\n",
       "    <tr>\n",
       "      <th>1</th>\n",
       "      <td>0.777808</td>\n",
       "      <td>-0.210748</td>\n",
       "      <td>-0.169149</td>\n",
       "      <td>-0.198993</td>\n",
       "      <td>-0.28939</td>\n",
       "      <td>1.241278</td>\n",
       "      <td>-0.480494</td>\n",
       "      <td>-0.385466</td>\n",
       "      <td>-0.340289</td>\n",
       "      <td>-0.139559</td>\n",
       "      <td>...</td>\n",
       "      <td>-0.236911</td>\n",
       "      <td>-0.147399</td>\n",
       "      <td>-0.089668</td>\n",
       "      <td>-0.042028</td>\n",
       "      <td>-0.064122</td>\n",
       "      <td>-0.071056</td>\n",
       "      <td>-0.048687</td>\n",
       "      <td>-0.004079</td>\n",
       "      <td>-0.001665</td>\n",
       "      <td>0</td>\n",
       "    </tr>\n",
       "    <tr>\n",
       "      <th>2</th>\n",
       "      <td>0.777808</td>\n",
       "      <td>-0.210748</td>\n",
       "      <td>-0.169149</td>\n",
       "      <td>-0.198993</td>\n",
       "      <td>-0.28939</td>\n",
       "      <td>1.241278</td>\n",
       "      <td>-0.480494</td>\n",
       "      <td>-0.385466</td>\n",
       "      <td>-0.340289</td>\n",
       "      <td>-0.139559</td>\n",
       "      <td>...</td>\n",
       "      <td>-0.236911</td>\n",
       "      <td>-0.147399</td>\n",
       "      <td>-0.089668</td>\n",
       "      <td>-0.042028</td>\n",
       "      <td>-0.064122</td>\n",
       "      <td>-0.071056</td>\n",
       "      <td>-0.048687</td>\n",
       "      <td>-0.004079</td>\n",
       "      <td>-0.001665</td>\n",
       "      <td>0</td>\n",
       "    </tr>\n",
       "    <tr>\n",
       "      <th>3</th>\n",
       "      <td>0.777808</td>\n",
       "      <td>-0.210748</td>\n",
       "      <td>-0.169149</td>\n",
       "      <td>-0.198993</td>\n",
       "      <td>-0.28939</td>\n",
       "      <td>1.241278</td>\n",
       "      <td>-0.480494</td>\n",
       "      <td>-0.385466</td>\n",
       "      <td>-0.340289</td>\n",
       "      <td>-0.139559</td>\n",
       "      <td>...</td>\n",
       "      <td>-0.236911</td>\n",
       "      <td>-0.147399</td>\n",
       "      <td>-0.089668</td>\n",
       "      <td>-0.042028</td>\n",
       "      <td>-0.064122</td>\n",
       "      <td>-0.071056</td>\n",
       "      <td>-0.048687</td>\n",
       "      <td>-0.004079</td>\n",
       "      <td>-0.001665</td>\n",
       "      <td>0</td>\n",
       "    </tr>\n",
       "    <tr>\n",
       "      <th>4</th>\n",
       "      <td>0.777808</td>\n",
       "      <td>-0.210748</td>\n",
       "      <td>-0.169149</td>\n",
       "      <td>-0.198993</td>\n",
       "      <td>-0.28939</td>\n",
       "      <td>1.241278</td>\n",
       "      <td>-0.480494</td>\n",
       "      <td>-0.385466</td>\n",
       "      <td>-0.340289</td>\n",
       "      <td>-0.139559</td>\n",
       "      <td>...</td>\n",
       "      <td>4.220987</td>\n",
       "      <td>-0.147399</td>\n",
       "      <td>-0.089668</td>\n",
       "      <td>-0.042028</td>\n",
       "      <td>-0.064122</td>\n",
       "      <td>-0.071056</td>\n",
       "      <td>-0.048687</td>\n",
       "      <td>-0.004079</td>\n",
       "      <td>-0.001665</td>\n",
       "      <td>0</td>\n",
       "    </tr>\n",
       "  </tbody>\n",
       "</table>\n",
       "<p>5 rows × 119 columns</p>\n",
       "</div>"
      ],
      "text/plain": [
       "        net  age_17岁以下  age_18-22  age_23-25  age_26-29  age_30-39  age_40-49  \\\n",
       "0 -1.285664  -0.210748  -0.169149  -0.198993   -0.28939   1.241278  -0.480494   \n",
       "1  0.777808  -0.210748  -0.169149  -0.198993   -0.28939   1.241278  -0.480494   \n",
       "2  0.777808  -0.210748  -0.169149  -0.198993   -0.28939   1.241278  -0.480494   \n",
       "3  0.777808  -0.210748  -0.169149  -0.198993   -0.28939   1.241278  -0.480494   \n",
       "4  0.777808  -0.210748  -0.169149  -0.198993   -0.28939   1.241278  -0.480494   \n",
       "\n",
       "   age_50-59  age_60以上    sex_不详  ...   salestimediff_cat_(1440, 1800]  \\\n",
       "0  -0.385466 -0.340289 -0.139559  ...                        -0.236911   \n",
       "1  -0.385466 -0.340289 -0.139559  ...                        -0.236911   \n",
       "2  -0.385466 -0.340289 -0.139559  ...                        -0.236911   \n",
       "3  -0.385466 -0.340289 -0.139559  ...                        -0.236911   \n",
       "4  -0.385466 -0.340289 -0.139559  ...                         4.220987   \n",
       "\n",
       "   salestimediff_cat_(1800, 2160]  salestimediff_cat_(2160, 2520]  \\\n",
       "0                       -0.147399                       -0.089668   \n",
       "1                       -0.147399                       -0.089668   \n",
       "2                       -0.147399                       -0.089668   \n",
       "3                       -0.147399                       -0.089668   \n",
       "4                       -0.147399                       -0.089668   \n",
       "\n",
       "   salestimediff_cat_(2520, 2880]  salestimediff_cat_(2880, 3240]  \\\n",
       "0                       -0.042028                       -0.064122   \n",
       "1                       -0.042028                       -0.064122   \n",
       "2                       -0.042028                       -0.064122   \n",
       "3                       -0.042028                       -0.064122   \n",
       "4                       -0.042028                       -0.064122   \n",
       "\n",
       "   salestimediff_cat_(3240, 3600]  salestimediff_cat_(3600, 3960]  \\\n",
       "0                       -0.071056                       -0.048687   \n",
       "1                       -0.071056                       -0.048687   \n",
       "2                       -0.071056                       -0.048687   \n",
       "3                       -0.071056                       -0.048687   \n",
       "4                       -0.071056                       -0.048687   \n",
       "\n",
       "   salestimediff_cat_(3960, 4320]  salestimediff_cat_(4320, 4680]  Flag  \n",
       "0                       -0.004079                       -0.001665     0  \n",
       "1                       -0.004079                       -0.001665     0  \n",
       "2                       -0.004079                       -0.001665     0  \n",
       "3                       -0.004079                       -0.001665     0  \n",
       "4                       -0.004079                       -0.001665     0  \n",
       "\n",
       "[5 rows x 119 columns]"
      ]
     },
     "execution_count": 5,
     "metadata": {},
     "output_type": "execute_result"
    }
   ],
   "source": [
    "df_train_f.head()\n",
    "# df_train_f.iloc[:, 10].plot(kind='kde')"
   ]
  },
  {
   "cell_type": "code",
   "execution_count": 15,
   "metadata": {
    "collapsed": true
   },
   "outputs": [],
   "source": [
    "m, n = np.shape(df_train_f)\n",
    "X = df_train_f.iloc[:, :(n-1)]\n",
    "y = df_train_f.iloc[:, -1]\n",
    "irx = list(X.index)"
   ]
  },
  {
   "cell_type": "code",
   "execution_count": 16,
   "metadata": {
    "collapsed": true
   },
   "outputs": [],
   "source": [
    "from sklearn.model_selection import train_test_split, StratifiedKFold, GridSearchCV\n",
    "from sklearn.metrics import classification_report\n",
    "from sklearn.metrics import precision_recall_curve, roc_curve, auc, roc_auc_score, accuracy_score"
   ]
  },
  {
   "cell_type": "code",
   "execution_count": 17,
   "metadata": {
    "collapsed": false
   },
   "outputs": [
    {
     "name": "stdout",
     "output_type": "stream",
     "text": [
      "(721396, 119)\n",
      "(504977, 118)\n",
      "(216419, 118)\n",
      "0.30000027724\n"
     ]
    }
   ],
   "source": [
    "X_train, X_test, y_train, y_test = train_test_split(X.values, y.values, test_size=0.3, random_state=0)\n",
    "print df_train_f.shape\n",
    "print np.shape(X_train)\n",
    "print np.shape(X_test)\n",
    "print np.shape(X_test)[0] * 1.0 / (np.shape(X_train)[0]+np.shape(X_test)[0])"
   ]
  },
  {
   "cell_type": "markdown",
   "metadata": {},
   "source": [
    "## 基模型组"
   ]
  },
  {
   "cell_type": "code",
   "execution_count": 26,
   "metadata": {
    "collapsed": false
   },
   "outputs": [],
   "source": [
    "from sklearn.linear_model import LogisticRegression\n",
    "from sklearn.ensemble import RandomForestClassifier, GradientBoostingClassifier\n",
    "import xgboost as xgb\n",
    "\n",
    "models = [\n",
    "    ['lr', LogisticRegression(random_state=0)], \n",
    "    ['rf', RandomForestClassifier(oob_score=True, random_state=0)],\n",
    "    ['gbdt', GradientBoostingClassifier(random_state=0)],\n",
    "    ['xgbc', xgb.XGBClassifier(nthread=-1, seed=0)]\n",
    "]"
   ]
  },
  {
   "cell_type": "markdown",
   "metadata": {},
   "source": [
    "## Blending"
   ]
  },
  {
   "cell_type": "code",
   "execution_count": 18,
   "metadata": {
    "collapsed": false
   },
   "outputs": [],
   "source": [
    "# blending\n",
    "# 切分训练集为两部分d1 d2\n",
    "X_d1, X_d2, y_d1, y_d2 = train_test_split(X_train, y_train, test_size=0.5, random_state=0)"
   ]
  },
  {
   "cell_type": "code",
   "execution_count": 20,
   "metadata": {
    "collapsed": false
   },
   "outputs": [],
   "source": [
    "# 用d1训练模型\n",
    "blending_d2      = np.zeros((X_d2.shape[0], len(models)))\n",
    "blending_test = np.zeros((X_test.shape[0], len(models)))"
   ]
  },
  {
   "cell_type": "code",
   "execution_count": 22,
   "metadata": {
    "collapsed": false
   },
   "outputs": [
    {
     "name": "stdout",
     "output_type": "stream",
     "text": [
      "No.1 - lr - Training Time: 43.33 seconds\n",
      "base model lr: testSet auc Score = 0.741998\n"
     ]
    },
    {
     "name": "stderr",
     "output_type": "stream",
     "text": [
      "/Users/fanghan/anaconda/lib/python2.7/site-packages/sklearn/ensemble/forest.py:451: UserWarning: Some inputs do not have OOB scores. This probably means too few trees were used to compute any reliable oob estimates.\n",
      "  warn(\"Some inputs do not have OOB scores. \"\n",
      "/Users/fanghan/anaconda/lib/python2.7/site-packages/sklearn/ensemble/forest.py:456: RuntimeWarning: invalid value encountered in true_divide\n",
      "  predictions[k].sum(axis=1)[:, np.newaxis])\n"
     ]
    },
    {
     "name": "stdout",
     "output_type": "stream",
     "text": [
      "No.2 - rf - Training Time: 8.26 seconds\n",
      "base model rf: testSet auc Score = 0.761818\n",
      "No.3 - gbdt - Training Time: 213.04 seconds\n",
      "base model gbdt: testSet auc Score = 0.795276\n",
      "No.4 - xgbc - Training Time: 29.05 seconds\n",
      "base model xgbc: testSet auc Score = 0.795163\n"
     ]
    }
   ],
   "source": [
    "# for every base model\n",
    "for j, (name, model) in enumerate(models):\n",
    "    timeStart = time.time()\n",
    "    model.fit(X_d1, y_d1)\n",
    "    print 'No.{} - {} - Training Time: {:.2f} seconds'.format(j+1, name, time.time() - timeStart)\n",
    "    blending_d2[:, j]  = model.predict_proba(X_d2)[:, 1]\n",
    "    blending_test[:, j] = model.predict_proba(X_test)[:, 1]\n",
    "    print 'base model %s: testSet auc Score = %.6f' % (name,  roc_auc_score(y_test, blending_test[:, j]))"
   ]
  },
  {
   "cell_type": "code",
   "execution_count": 24,
   "metadata": {
    "collapsed": false
   },
   "outputs": [
    {
     "name": "stdout",
     "output_type": "stream",
     "text": [
      "blending result( no  stretch): testSet auc Score = 0.795647\n",
      "blending result(with stretch): testSet auc Score = 0.795647\n"
     ]
    }
   ],
   "source": [
    "# blending 融合\n",
    "clf = LogisticRegression()\n",
    "clf.fit(blending_d2, y_d2)\n",
    "clf_predict_prob = clf.predict_proba(blending_test)[:, 1]\n",
    "\n",
    "# print(\"Linear stretch of predictions to [0,1]\")\n",
    "clf_predict_prob_stretch = (clf_predict_prob - clf_predict_prob.min()) / (clf_predict_prob.max() - clf_predict_prob.min())\n",
    "\n",
    "print 'blending result( no  stretch): testSet auc Score = %.6f' % (roc_auc_score(y_test, clf_predict_prob))\n",
    "print 'blending result(with stretch): testSet auc Score = %.6f' % (roc_auc_score(y_test, clf_predict_prob_stretch))"
   ]
  },
  {
   "cell_type": "markdown",
   "metadata": {},
   "source": [
    "## Stacking"
   ]
  },
  {
   "cell_type": "code",
   "execution_count": 25,
   "metadata": {
    "collapsed": true
   },
   "outputs": [],
   "source": [
    "# 不再切分训练集为两部分d1 d2，而是直接做nfolds\n",
    "# X_d1, X_d2, y_d1, y_d2 = train_test_split(X, y, test_size=0.5, random_state=0)\n",
    "\n",
    "skf = StratifiedKFold(n_splits=5, shuffle=False, random_state=0)\n",
    "# 训练模型\n",
    "stacking_train   = np.zeros((X_train.shape[0], len(models)))\n",
    "stacking_predict = np.zeros((X_test.shape[0], len(models)))"
   ]
  },
  {
   "cell_type": "code",
   "execution_count": 31,
   "metadata": {
    "collapsed": false
   },
   "outputs": [
    {
     "name": "stdout",
     "output_type": "stream",
     "text": [
      "No.1 - lr - Training Time: 75.11 seconds\n",
      "No.1 - lr - Training Time: 72.41 seconds\n",
      "No.1 - lr - Training Time: 58.52 seconds\n",
      "No.1 - lr - Training Time: 50.21 seconds\n",
      "No.1 - lr - Training Time: 55.03 seconds\n",
      "base model lr: testSet auc Score = 0.743891\n",
      "No.2 - rf - Training Time: 15.11 seconds\n",
      "No.2 - rf - Training Time: 14.92 seconds\n",
      "No.2 - rf - Training Time: 15.20 seconds\n",
      "No.2 - rf - Training Time: 15.35 seconds\n",
      "No.2 - rf - Training Time: 15.11 seconds\n",
      "base model rf: testSet auc Score = 0.782521\n",
      "No.3 - gbdt - Training Time: 361.61 seconds\n",
      "No.3 - gbdt - Training Time: 369.18 seconds\n",
      "No.3 - gbdt - Training Time: 358.56 seconds\n",
      "No.3 - gbdt - Training Time: 363.21 seconds\n",
      "No.3 - gbdt - Training Time: 376.61 seconds\n",
      "base model gbdt: testSet auc Score = 0.795546\n",
      "No.4 - xgbc - Training Time: 48.36 seconds\n",
      "No.4 - xgbc - Training Time: 48.63 seconds\n",
      "No.4 - xgbc - Training Time: 47.94 seconds\n",
      "No.4 - xgbc - Training Time: 48.03 seconds\n",
      "No.4 - xgbc - Training Time: 47.56 seconds\n",
      "base model xgbc: testSet auc Score = 0.795343\n"
     ]
    }
   ],
   "source": [
    "# for every base model\n",
    "for j, (name, model) in enumerate(models):\n",
    "    stacking_predict_j = np.zeros((X_test.shape[0], 5))\n",
    "    for i, (train, test) in enumerate(skf.split(X_train, y_train)):\n",
    "        Xtrain, Xtest, ytrain, ytest = X_train[train], X_train[test], y_train[train], y_train[test]\n",
    "        timeStart = time.time()\n",
    "        model.fit(Xtrain, ytrain)\n",
    "        print 'No.{} - {} - Training Time: {:.2f} seconds'.format(j+1, name, time.time() - timeStart)\n",
    "        stacking_train[test, j]  = model.predict_proba(Xtest)[:, 1]\n",
    "        stacking_predict_j[:, i] = model.predict_proba(X_test)[:, 1]\n",
    "    stacking_predict[:, j] = stacking_predict_j.mean(axis=1)\n",
    "    print 'base model %s: testSet auc Score = %.6f' % (name,  roc_auc_score(y_test, stacking_predict[:, j]))"
   ]
  },
  {
   "cell_type": "code",
   "execution_count": 30,
   "metadata": {
    "collapsed": false
   },
   "outputs": [
    {
     "name": "stdout",
     "output_type": "stream",
     "text": [
      "stacking result( no  stretch): testSet auc Score = 0.798388\n",
      "stacking result(with stretch): testSet auc Score = 0.798388\n"
     ]
    }
   ],
   "source": [
    "# stacking 融合\n",
    "clf = LogisticRegression()\n",
    "clf.fit(stacking_train, y_train)\n",
    "clf_predict_prob = clf.predict_proba(stacking_predict)[:, 1]\n",
    "\n",
    "# print(\"Linear stretch of predictions to [0,1]\")\n",
    "clf_predict_prob_stretch = (clf_predict_prob - clf_predict_prob.min()) / (clf_predict_prob.max() - clf_predict_prob.min())\n",
    "\n",
    "print 'stacking result( no  stretch): testSet auc Score = %.6f' % (roc_auc_score(y_test, clf_predict_prob))\n",
    "print 'stacking result(with stretch): testSet auc Score = %.6f' % (roc_auc_score(y_test, clf_predict_prob_stretch))"
   ]
  }
 ],
 "metadata": {
  "kernelspec": {
   "display_name": "Python 2",
   "language": "python",
   "name": "python2"
  },
  "language_info": {
   "codemirror_mode": {
    "name": "ipython",
    "version": 2
   },
   "file_extension": ".py",
   "mimetype": "text/x-python",
   "name": "python",
   "nbconvert_exporter": "python",
   "pygments_lexer": "ipython2",
   "version": "2.7.13"
  }
 },
 "nbformat": 4,
 "nbformat_minor": 2
}
