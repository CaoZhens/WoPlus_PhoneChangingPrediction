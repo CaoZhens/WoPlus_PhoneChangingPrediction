{
 "cells": [
  {
   "cell_type": "code",
   "execution_count": 171,
   "metadata": {
    "collapsed": true
   },
   "outputs": [],
   "source": [
    "import numpy as np\n",
    "import pandas as pd\n",
    "from sklearn.preprocessing import OneHotEncoder\n",
    "from sklearn.preprocessing import StandardScaler\n",
    "import matplotlib.pyplot as plt\n",
    "%matplotlib inline\n",
    "import datetime\n",
    "import re\n",
    "\n",
    "title = 'woplus'\n",
    "path = '../../sources/data'"
   ]
  },
  {
   "cell_type": "markdown",
   "metadata": {},
   "source": [
    "## Load Data\n",
    "### Internal Data 内部数据，赛题直接提供"
   ]
  },
  {
   "cell_type": "code",
   "execution_count": 2,
   "metadata": {
    "collapsed": false
   },
   "outputs": [],
   "source": [
    "df_net = pd.read_table('{}/dataset_2015_filter_net.txt'.format(path), sep='|')\n",
    "df_net_piv = df_net.pivot(index='imsi', columns='mon')\n",
    "df_net_piv.columns = ['net01','net02','net03','net04','net05','net06','net07','net08','net09','net10','net11','net12']\n",
    "\n",
    "df_age = pd.read_table('{}/dataset_2015_filter_age.txt'.format(path), sep='|')\n",
    "df_age_piv = df_age.pivot(index='imsi', columns='mon')\n",
    "df_age_piv.columns = ['age01','age02','age03','age04','age05','age06','age07','age08','age09','age10','age11','age12']\n",
    "\n",
    "df_sex = pd.read_table('{}/dataset_2015_filter_sex.txt'.format(path), sep='|')\n",
    "df_sex_piv = df_sex.pivot(index='imsi', columns='mon')\n",
    "df_sex_piv.columns = ['sex01','sex02','sex03','sex04','sex05','sex06','sex07','sex08','sex09','sex10','sex11','sex12']\n",
    "\n",
    "df_arpu = pd.read_table('{}/dataset_2015_filter_arpu.txt'.format(path), sep='|')\n",
    "df_arpu_piv = df_arpu.pivot(index='imsi', columns='mon')\n",
    "df_arpu_piv.columns = ['arpu01','arpu02','arpu03','arpu04','arpu05','arpu06','arpu07','arpu08','arpu09','arpu10','arpu11','arpu12']\n",
    "\n",
    "df_stream = pd.read_table('{}/dataset_2015_filter_stream.txt'.format(path), sep='|')\n",
    "df_stream_piv = df_stream.pivot(index='imsi', columns='mon')\n",
    "df_stream_piv.columns = ['stream01','stream02','stream03','stream04','stream05','stream06','stream07','stream08','stream09','stream10','stream11','stream12']\n",
    "\n",
    "df_sms = pd.read_table('{}/dataset_2015_filter_sms.txt'.format(path), sep='|')\n",
    "df_sms_piv = df_sms.pivot(index='imsi', columns='mon')\n",
    "df_sms_piv.columns = ['sms01','sms02','sms03','sms04','sms05','sms06','sms07','sms08','sms09','sms10','sms11','sms12']\n",
    "\n",
    "df_talklen = pd.read_table('{}/dataset_2015_filter_talklen.txt'.format(path), sep='|')\n",
    "df_talklen_piv = df_talklen.pivot(index='imsi', columns='mon')\n",
    "df_talklen_piv.columns = ['talklen01','talklen02','talklen03','talklen04','talklen05','talklen06','talklen07','talklen08','talklen09','talklen10','talklen11','talklen12']\n",
    "\n",
    "df_me = pd.read_table('{}/dataset_2015_filter_me.txt'.format(path), sep='|')\n",
    "df_me_piv = df_me.pivot(index='imsi', columns='mon')\n",
    "df_me_piv.columns = ['brand01','brand02','brand03','brand04','brand05','brand06','brand07','brand08','brand09','brand10','brand11','brand12',\\\n",
    "                     'type01','type02','type03','type04','type05','type06','type07','type08','type09','type10','type11','type12']"
   ]
  },
  {
   "cell_type": "markdown",
   "metadata": {},
   "source": [
    "### External Data"
   ]
  },
  {
   "cell_type": "code",
   "execution_count": 175,
   "metadata": {
    "collapsed": true
   },
   "outputs": [],
   "source": [
    "# # 加载终端库信息\n",
    "# # 备注：tacinfo_for_woplus.csv 里面有重复数据\n",
    "# df_tacinfo = pd.read_csv('{}/tacinfo_for_woplus.csv'.format(path))\n",
    "# df_tacinfo.columns = ['brand','type','brandtype','sumusers','avgusers','prices','sales_date','iselder','isnetcard','ispad']\n",
    "# df_tacinfo = df_tacinfo.loc[:,['brand','type','prices','sales_date','iselder','isnetcard','ispad']]\n",
    "# # df_tacinfo.head()\n",
    "\n",
    "# # 重复数据校验\n",
    "# df_test = df_tacinfo.iloc[:, 0:3].fillna(0).groupby(['brand','type']).count()\n",
    "# df_test[df_test.prices > 1]"
   ]
  },
  {
   "cell_type": "code",
   "execution_count": 176,
   "metadata": {
    "collapsed": false
   },
   "outputs": [
    {
     "data": {
      "text/html": [
       "<div>\n",
       "<style>\n",
       "    .dataframe thead tr:only-child th {\n",
       "        text-align: right;\n",
       "    }\n",
       "\n",
       "    .dataframe thead th {\n",
       "        text-align: left;\n",
       "    }\n",
       "\n",
       "    .dataframe tbody tr th {\n",
       "        vertical-align: top;\n",
       "    }\n",
       "</style>\n",
       "<table border=\"1\" class=\"dataframe\">\n",
       "  <thead>\n",
       "    <tr style=\"text-align: right;\">\n",
       "      <th></th>\n",
       "      <th>brand</th>\n",
       "      <th>type</th>\n",
       "      <th>prices</th>\n",
       "      <th>sales_date</th>\n",
       "      <th>iselder</th>\n",
       "      <th>isnetcard</th>\n",
       "      <th>ispad</th>\n",
       "    </tr>\n",
       "  </thead>\n",
       "  <tbody>\n",
       "    <tr>\n",
       "      <th>0</th>\n",
       "      <td>Apple</td>\n",
       "      <td>iPhone 5S</td>\n",
       "      <td>2500.0</td>\n",
       "      <td>2013/9/1</td>\n",
       "      <td>0.0</td>\n",
       "      <td>0.0</td>\n",
       "      <td>0.0</td>\n",
       "    </tr>\n",
       "    <tr>\n",
       "      <th>1</th>\n",
       "      <td>Apple</td>\n",
       "      <td>iPhone 5</td>\n",
       "      <td>2000.0</td>\n",
       "      <td>2012/9/1</td>\n",
       "      <td>0.0</td>\n",
       "      <td>0.0</td>\n",
       "      <td>0.0</td>\n",
       "    </tr>\n",
       "    <tr>\n",
       "      <th>2</th>\n",
       "      <td>Apple</td>\n",
       "      <td>iPhone 4</td>\n",
       "      <td>500.0</td>\n",
       "      <td>2010/10/1</td>\n",
       "      <td>0.0</td>\n",
       "      <td>0.0</td>\n",
       "      <td>0.0</td>\n",
       "    </tr>\n",
       "    <tr>\n",
       "      <th>3</th>\n",
       "      <td>Apple</td>\n",
       "      <td>iPhone 4S</td>\n",
       "      <td>800.0</td>\n",
       "      <td>2011/10/1</td>\n",
       "      <td>0.0</td>\n",
       "      <td>0.0</td>\n",
       "      <td>0.0</td>\n",
       "    </tr>\n",
       "    <tr>\n",
       "      <th>4</th>\n",
       "      <td>Apple</td>\n",
       "      <td>iPhone 6 (A1586)</td>\n",
       "      <td>3890.0</td>\n",
       "      <td>2014/9/1</td>\n",
       "      <td>0.0</td>\n",
       "      <td>0.0</td>\n",
       "      <td>0.0</td>\n",
       "    </tr>\n",
       "  </tbody>\n",
       "</table>\n",
       "</div>"
      ],
      "text/plain": [
       "   brand              type  prices sales_date  iselder  isnetcard  ispad\n",
       "0  Apple         iPhone 5S  2500.0   2013/9/1      0.0        0.0    0.0\n",
       "1  Apple          iPhone 5  2000.0   2012/9/1      0.0        0.0    0.0\n",
       "2  Apple          iPhone 4   500.0  2010/10/1      0.0        0.0    0.0\n",
       "3  Apple         iPhone 4S   800.0  2011/10/1      0.0        0.0    0.0\n",
       "4  Apple  iPhone 6 (A1586)  3890.0   2014/9/1      0.0        0.0    0.0"
      ]
     },
     "execution_count": 176,
     "metadata": {},
     "output_type": "execute_result"
    }
   ],
   "source": [
    "# 重新加载新的终端库信息\n",
    "df_tacinfo = pd.read_csv('{}/tacinfo_for_woplus_deal_utf8.csv'.format(path))\n",
    "df_tacinfo.columns = ['brand','type','brandtype','sumusers','avgusers','prices','sales_date','iselder','isnetcard','ispad']\n",
    "df_tacinfo = df_tacinfo.loc[:, ['brand','type','prices','sales_date','iselder','isnetcard','ispad']]\n",
    "df_tacinfo.iselder = df_tacinfo.iselder.fillna(0)\n",
    "df_tacinfo.isnetcard = df_tacinfo.isnetcard.fillna(0)\n",
    "df_tacinfo.ispad = df_tacinfo.ispad.fillna(0)\n",
    "df_tacinfo.prices = df_tacinfo.prices.fillna(0)\n",
    "df_tacinfo.head()"
   ]
  },
  {
   "cell_type": "code",
   "execution_count": 178,
   "metadata": {
    "collapsed": false
   },
   "outputs": [
    {
     "name": "stdout",
     "output_type": "stream",
     "text": [
      "  brand   type  prices sales_date  iselder  isnetcard  ispad\n",
      "6    苹果  A1429  2000.0   2012/9/1      0.0        0.0    0.0\n",
      "7    苹果  A1586  3890.0   2014/9/1      0.0        0.0    0.0\n",
      "Empty DataFrame\n",
      "Columns: [brand, type, prices, sales_date, iselder, isnetcard, ispad]\n",
      "Index: []\n"
     ]
    }
   ],
   "source": [
    "print df_tacinfo[df_tacinfo.brand == '苹果'].head(2)\n",
    "print df_tacinfo[df_tacinfo.brand == u'苹果'].head(2)"
   ]
  },
  {
   "cell_type": "markdown",
   "metadata": {},
   "source": [
    "## Data Summary"
   ]
  },
  {
   "cell_type": "code",
   "execution_count": 3,
   "metadata": {
    "collapsed": false
   },
   "outputs": [],
   "source": [
    "def ValueCounts(das, nhead=5):\n",
    "    tmp = pd.value_counts(das).reset_index().rename_axis({'index': das.name}, axis=1)\n",
    "    value = pd.DataFrame(['Value {}'.format(x+1) for x in np.arange(nhead)], index=np.arange(nhead)).join(tmp.iloc[:, 0], how='left').set_index(0).T\n",
    "    freq = pd.DataFrame(['Freq {}'.format(x+1) for x in np.arange(nhead)], index=np.arange(nhead)).join(tmp.iloc[:, 1], how='left').set_index(0).T\n",
    "    nnull = das.isnull().sum()\n",
    "    freqother = pd.DataFrame({das.name: [das.shape[0] - nnull - np.nansum(freq.values), nnull]}, index=['Freq Others','Freq NA']).T\n",
    "    op = pd.concat([value, freq, freqother], axis=1)\n",
    "    return op\n",
    "\n",
    "def Summary(da):\n",
    "    op = pd.concat([pd.DataFrame({'type':da.dtypes, 'nnullCount':da.notnull().sum(axis=0)}), da.describe().T.iloc[:, 1:],\n",
    "          pd.concat(map(lambda i: ValueCounts(da.loc[:,i]), da.columns))], axis=1).loc[da.columns]\n",
    "    op.index.name='columns'\n",
    "    return op"
   ]
  },
  {
   "cell_type": "markdown",
   "metadata": {},
   "source": [
    "## Category Feature's Bin with OHC"
   ]
  },
  {
   "cell_type": "code",
   "execution_count": 259,
   "metadata": {
    "collapsed": true
   },
   "outputs": [],
   "source": [
    "'''Transfrom a categorical column to onehotencoding'''\n",
    "def Cat_to_bin(das, a = 0.0):\n",
    "    tmp = pd.value_counts(das)/das.shape[0]\n",
    "    cat = list(tmp.index[tmp >= a]) # 改良：增加等于0，确保即使某个bin没有值，也会被ohc编码；同时相应修改下面去掉=\n",
    "    cat.sort()   # 改良：使用cat前对cat进行一次排序，保证顺序一致\n",
    "    enc = OneHotEncoder(n_values = len(cat)+1, sparse = False)\n",
    "    xbin = enc.fit_transform(np.transpose(\n",
    "            [das.astype(\"category\").cat.set_categories(cat).cat.rename_categories(1+np.arange(len(cat))).astype(\"float\").fillna(0).values]))[:,1:]     \n",
    "    dabin = pd.DataFrame(xbin, columns = [\"{}_{}\".format(das.name[:-2], x) for x in cat], index = das.index)    # origin\n",
    "    # dabin = pd.DataFrame(xbin, columns = [\"{}_{}\".format(das.name, x) for x in (1+np.arange(len(cat)))], index = das.index) \n",
    "    if(tmp[tmp < a].sum() > a):\n",
    "        dabin = pd.concat([dabin, pd.DataFrame({\"{}_Others\".format(das.name[:-2]):das.notnull()-dabin.sum(axis = 1)})], axis = 1)\n",
    "    if(dabin.shape[1] == 2):\n",
    "        dabin = pd.DataFrame({das.name[:-2]: xbin[:,0]}, index = das.index)\n",
    "    return(dabin)\n",
    "\n",
    "def CattoBin(da, a = 0.0):\n",
    "    op = pd.concat(map(lambda i: Cat_to_bin(da.loc[:, i], a), da.columns), axis=1)\n",
    "    return op"
   ]
  },
  {
   "cell_type": "markdown",
   "metadata": {},
   "source": [
    "## Numerical Feature's Standardalization with StandardScaler"
   ]
  },
  {
   "cell_type": "code",
   "execution_count": 5,
   "metadata": {
    "collapsed": true
   },
   "outputs": [],
   "source": [
    "def SSTraining(da):\n",
    "    ss = StandardScaler().fit(da)\n",
    "    # ss.mean_\n",
    "    # ss.scale_\n",
    "    newColumns = []\n",
    "    for col in da.columns:\n",
    "        newColumns.append(col[:-2])\n",
    "    op = pd.DataFrame(ss.transform(da), index=da.index, columns=newColumns)\n",
    "    return op, ss"
   ]
  },
  {
   "cell_type": "markdown",
   "metadata": {},
   "source": [
    "## Label's Generation"
   ]
  },
  {
   "cell_type": "code",
   "execution_count": 260,
   "metadata": {
    "collapsed": true
   },
   "outputs": [],
   "source": [
    "def isChangingStrict(dl):\n",
    "    return len(np.unique(dl))\n",
    "\n",
    "def labelGenerate(df, Mon1, Mon2):\n",
    "    df_phone = df.loc[:,['brand'+Mon1,'type'+Mon1,'brand'+Mon2,'type'+Mon2]]\n",
    "    df_phone_label_strict = df_phone.apply(isChangingStrict, axis=1)\n",
    "    df_phone_label_strict[df_phone_label_strict < 3] = 0\n",
    "    df_phone_label_strict[df_phone_label_strict >=3] = 1\n",
    "    return pd.DataFrame(df_phone_label_strict, columns=['Flag'])"
   ]
  },
  {
   "cell_type": "markdown",
   "metadata": {},
   "source": [
    "## Select df's Columns"
   ]
  },
  {
   "cell_type": "code",
   "execution_count": 261,
   "metadata": {
    "collapsed": true
   },
   "outputs": [],
   "source": [
    "def dfSelCol(df, mon):\n",
    "    featList = df.columns.tolist()\n",
    "    return df.loc[:, map(lambda i: re.findall('\\d{2}',featList[i])[0] == mon, np.arange(len(featList)))]"
   ]
  },
  {
   "cell_type": "markdown",
   "metadata": {},
   "source": [
    "## Feature's Generation"
   ]
  },
  {
   "cell_type": "markdown",
   "metadata": {},
   "source": [
    "### Baseline-1"
   ]
  },
  {
   "cell_type": "code",
   "execution_count": 262,
   "metadata": {
    "collapsed": false
   },
   "outputs": [],
   "source": [
    "def featGenerate(mon):\n",
    "    df_net_piv_sel     = dfSelCol(df_net_piv, mon)\n",
    "    df_age_piv_sel     = dfSelCol(df_age_piv, mon)\n",
    "    df_sex_piv_sel     = dfSelCol(df_sex_piv, mon)\n",
    "    df_arpu_piv_sel    = dfSelCol(df_arpu_piv, mon)\n",
    "    df_stream_piv_sel  = dfSelCol(df_stream_piv, mon) \n",
    "    df_sms_piv_sel     = dfSelCol(df_sms_piv, mon) \n",
    "    df_talklen_piv_sel = dfSelCol(df_talklen_piv, mon)\n",
    "    \n",
    "    # deal with Category Features\n",
    "    net_catbin = CattoBin(df_net_piv_sel)\n",
    "    age_catbin = CattoBin(df_age_piv_sel)\n",
    "    sex_catbin = CattoBin(df_sex_piv_sel)\n",
    "    arpu_catbin = CattoBin(df_arpu_piv_sel)\n",
    "    stream_catbin = CattoBin(df_stream_piv_sel)\n",
    "    \n",
    "    # deal with Numerical Features\n",
    "    sms_ss, sscaler_sms = SSTraining(df_sms_piv_sel)\n",
    "    talklen_ss, sscaler_talklen = SSTraining(df_talklen_piv_sel)\n",
    "    \n",
    "    # concat\n",
    "    df_features = pd.concat([net_catbin, age_catbin, sex_catbin, arpu_catbin, stream_catbin, sms_ss, talklen_ss], axis=1)\n",
    "    return df_features"
   ]
  },
  {
   "cell_type": "markdown",
   "metadata": {},
   "source": [
    "### code example\n",
    "```python\n",
    "# sms\n",
    "df_sms_piv_sel = dfSelCol(df_sms_piv, '09') \n",
    "pd.qcut(df_sms_piv_sel.sms09, [0,0.5,0.6,0.7,0.8,0.9,1])\n",
    "\n",
    "# talklen\n",
    "df_talklen_piv_sel = dfSelCol(df_talklen_piv, '09')\n",
    "talklen_cat = pd.qcut(df_talklen_piv_sel.talklen09, [0,0.2,0.3,0.4,0.5,0.6,0.7,0.8,0.9,1])\n",
    "print pd.value_counts(talklen_cat)\n",
    "```\n",
    "#### sms09\n",
    "```\n",
    "Categories (6, interval[float64]):  \n",
    "[(-0.001, 1.0] < (1.0, 3.0] < (3.0, 8.0] < (8.0, 18.0] < (18.0, 41.0] < (41.0, 16055.0]]\n",
    "```\n",
    "#### sms10\n",
    "```\n",
    "Categories (6, interval[float64]):  \n",
    "[(-0.001, 1.0] < (1.0, 3.0] < (3.0, 7.0] < (7.0, 17.0] < (17.0, 38.0] < (38.0, 9741.0]]\n",
    "```\n",
    "#### talklen09\n",
    "```\n",
    "(-0.001, 3.0]       72446  \n",
    "(3.0, 31.0]         36381  \n",
    "(122.0, 188.0]      36333  \n",
    "(188.0, 277.0]      36066  \n",
    "(683.0, 11631.0]    36038  \n",
    "(413.0, 683.0]      35995  \n",
    "(71.0, 122.0]       35948  \n",
    "(277.0, 413.0]      35853  \n",
    "(31.0, 71.0]        35638  \n",
    "Name: talklen09, dtype: int64\n",
    "```\n",
    "#### talklen10\n",
    "```\n",
    "(-0.001, 3.0]       74298\n",
    "(28.0, 67.0]        36664\n",
    "(263.0, 394.0]      36179\n",
    "(67.0, 116.0]       36124\n",
    "(653.3, 12666.0]    36070\n",
    "(394.0, 653.3]      35886\n",
    "(178.0, 263.0]      35817\n",
    "(116.0, 178.0]      35733\n",
    "(3.0, 28.0]         33927\n",
    "Name: talklen10, dtype: int64\n",
    "```"
   ]
  },
  {
   "cell_type": "code",
   "execution_count": 106,
   "metadata": {
    "collapsed": false
   },
   "outputs": [
    {
     "name": "stdout",
     "output_type": "stream",
     "text": [
      "sms09    0\n",
      "dtype: int64\n",
      "(-1, 0]         165811\n",
      "(1, 5]           45446\n",
      "(20, 50]         38504\n",
      "(10, 20]         30860\n",
      "(5, 10]          28321\n",
      "(0, 1]           23098\n",
      "(50, 100]        17705\n",
      "(100, 200]        7686\n",
      "(200, 20000]      3267\n",
      "Name: sms09, dtype: int64\n"
     ]
    }
   ],
   "source": [
    "df_sms_piv_sel = dfSelCol(df_sms_piv, '09')\n",
    "sms_cat = pd.cut(df_sms_piv_sel.sms09, [-1, 0, 1, 5, 10, 20, 50, 100, 200, 20000])"
   ]
  },
  {
   "cell_type": "code",
   "execution_count": 263,
   "metadata": {
    "collapsed": false
   },
   "outputs": [
    {
     "name": "stdout",
     "output_type": "stream",
     "text": [
      "[-1, 0, 10, 30, 60, 120, 180, 240, 300, 360, 420, 480, 540, 600, 1200, 1800, 2400, 3000, 3600, 20000]\n",
      "(-1, 0]          64338\n",
      "(60, 120]        43480\n",
      "(120, 180]       33785\n",
      "(600, 1200]      31372\n",
      "(30, 60]         27807\n",
      "(180, 240]       26287\n",
      "(10, 30]         23631\n",
      "(240, 300]       21081\n",
      "(0, 10]          19852\n",
      "(300, 360]       16522\n",
      "(360, 420]       13319\n",
      "(420, 480]       10709\n",
      "(480, 540]        8588\n",
      "(1200, 1800]      7977\n",
      "(540, 600]        7352\n",
      "(1800, 2400]      2668\n",
      "(2400, 3000]      1048\n",
      "(3600, 20000]      442\n",
      "(3000, 3600]       440\n",
      "Name: talklen09, dtype: int64\n"
     ]
    }
   ],
   "source": [
    "df_talklen_piv_sel = dfSelCol(df_talklen_piv, '09')\n",
    "talklen_bin = [-1,0,10,30]\n",
    "talklen_bin.extend(range(60,60*11,60))\n",
    "talklen_bin.extend(range(600+600, 600*7, 600))\n",
    "talklen_bin.extend([20000])\n",
    "print talklen_bin\n",
    "talklen_cat = pd.cut(df_talklen_piv_sel.talklen09, talklen_bin)\n",
    "print pd.value_counts(talklen_cat)"
   ]
  },
  {
   "cell_type": "markdown",
   "metadata": {},
   "source": [
    "## Feature's Generation - 2"
   ]
  },
  {
   "cell_type": "code",
   "execution_count": 264,
   "metadata": {
    "collapsed": true
   },
   "outputs": [],
   "source": [
    "def featGenerate2(mon):\n",
    "    df_net_piv_sel     = dfSelCol(df_net_piv, mon)\n",
    "    df_age_piv_sel     = dfSelCol(df_age_piv, mon)\n",
    "    df_sex_piv_sel     = dfSelCol(df_sex_piv, mon)\n",
    "    df_arpu_piv_sel    = dfSelCol(df_arpu_piv, mon)\n",
    "    df_stream_piv_sel  = dfSelCol(df_stream_piv, mon) \n",
    "    df_sms_piv_sel     = dfSelCol(df_sms_piv, mon) \n",
    "    df_talklen_piv_sel = dfSelCol(df_talklen_piv, mon)\n",
    "    \n",
    "    # deal with Category Features\n",
    "    net_catbin = CattoBin(df_net_piv_sel)\n",
    "    age_catbin = CattoBin(df_age_piv_sel)\n",
    "    sex_catbin = CattoBin(df_sex_piv_sel)\n",
    "    arpu_catbin = CattoBin(df_arpu_piv_sel)\n",
    "    stream_catbin = CattoBin(df_stream_piv_sel)\n",
    "    \n",
    "    # deal with Numerical Features - Discretization and Catbin\n",
    "    sms_cat = pd.cut(df_sms_piv_sel.iloc[:,-1], [-1, 0, 1, 5, 10, 20, 50, 100, 200, 20000])\n",
    "    sms_catbin = Cat_to_bin(sms_cat)\n",
    "    \n",
    "    talklen_bin = [-1,0,10,30]\n",
    "    talklen_bin.extend(range(60,60*11,60))\n",
    "    talklen_bin.extend(range(600+600, 600*7, 600))\n",
    "    talklen_bin.extend([20000])\n",
    "    talklen_cat = pd.cut(df_talklen_piv_sel.iloc[:,-1], talklen_bin)\n",
    "    talklen_catbin = Cat_to_bin(talklen_cat)\n",
    "    # concat\n",
    "    df_features = pd.concat([net_catbin, age_catbin, sex_catbin, arpu_catbin, stream_catbin, sms_catbin, talklen_catbin], axis=1)\n",
    "    return df_features"
   ]
  },
  {
   "cell_type": "markdown",
   "metadata": {},
   "source": [
    "### Baseline-3"
   ]
  },
  {
   "cell_type": "code",
   "execution_count": 265,
   "metadata": {
    "collapsed": false
   },
   "outputs": [],
   "source": [
    "# Baseline-3 增加终端相关特征\n",
    "def genMeFeats(df, mon, df_tacinfo):\n",
    "    df_me_sel = dfSelCol(df, mon).reset_index()\n",
    "    df_me_sel.columns = ['imsi', 'brand', 'type']\n",
    "    df_me_featadd = df_me_sel.merge(df_tacinfo, left_on=['brand','type'], right_on=['brand','type'], how='left')\n",
    "    df_me_featadd.set_index('imsi', inplace=True)\n",
    "    \n",
    "    # deal with Category Features\n",
    "    iselder_catbin = CattoBin(df_me_featadd.loc[:, ['iselder']].fillna(0))\n",
    "    isnetcard_catbin = CattoBin(df_me_featadd.loc[:, ['isnetcard']].fillna(0))\n",
    "    ispad_catbin = CattoBin(df_me_featadd.loc[:, ['ispad']].fillna(0))\n",
    "    \n",
    "    # deal with Numerical Features\n",
    "    # prices_cat = pd.qcut(df_me_featadd.loc[:,'prices'], [0,0.1,0.2,0.3,0.4,0.5,0.6,0.7,0.8,0.9,1])\n",
    "    prices_cat = pd.cut(df_me_featadd.loc[:,'prices'].fillna(0), [-1,0,100,200,400,500,1000,1500,2000,3000,40000])\n",
    "    prices_cat.name = 'prices_cat' + mon\n",
    "    print 'prices_cat value_counts:\\n', pd.value_counts(prices_cat)\n",
    "    prices_catbin = Cat_to_bin(prices_cat)\n",
    "    # print prices_catbin.head()\n",
    "    \n",
    "    # deal datetime feature\n",
    "    # df_me_09_featadd1.loc[:,['sales_date']]\n",
    "    salestimediff = datetime.date(2015,int(mon),1) - pd.to_datetime(df_me_featadd['sales_date'])\n",
    "    salestimediff = salestimediff.astype('timedelta64[D]')\n",
    "    salestimediffmax = int(np.ceil(salestimediff.max() / 360))\n",
    "    print 'maximum of salestimediff:', salestimediff.max()\n",
    "    print 'maximum year of salestimediff:', salestimediffmax\n",
    "    # print range(0, 30*12*3, 30)\n",
    "    # print range(30*12*3, 30*12*salestimemax, 360)\n",
    "    salestimediff_bin = [-1]\n",
    "    salestimediff_bin.extend(range(0, 30*12*3, 30))\n",
    "    salestimediff_bin.extend(range(30*12*3, 30*12*(salestimediffmax+1), 360))\n",
    "    print 'salestimediff_bin:', salestimediff_bin\n",
    "    salestimediff_cat = pd.cut(salestimediff, salestimediff_bin)\n",
    "    salestimediff_cat.name = 'salestimediff_cat' + mon\n",
    "    print 'salestimediff_cat value_counts:\\n', pd.value_counts(salestimediff_cat)\n",
    "    print 'salestimediff_cat length:\\n', np.shape(pd.value_counts(salestimediff_cat))\n",
    "    salestimediff_catbin = Cat_to_bin(salestimediff_cat)\n",
    "    # print salestimediff_catbin.head()\n",
    "    return iselder_catbin, isnetcard_catbin, ispad_catbin, prices_catbin, salestimediff_catbin\n",
    "\n",
    "def featGenerate3(mon):\n",
    "    tsFeat = featGenerate2(mon)\n",
    "    df_me_piv_sel = dfSelCol(df_me_piv, mon)\n",
    "    iselder_catbin, isnetcard_catbin, ispad_catbin, prices_catbin, salestimediff_catbin = genMeFeats(df_me_piv_sel, mon, df_tacinfo)\n",
    "    # concat\n",
    "    df_features = pd.concat([tsFeat, iselder_catbin, isnetcard_catbin, ispad_catbin, prices_catbin, salestimediff_catbin], axis=1)\n",
    "    return df_features"
   ]
  },
  {
   "cell_type": "markdown",
   "metadata": {},
   "source": [
    "## Generate TrainSet"
   ]
  },
  {
   "cell_type": "code",
   "execution_count": 266,
   "metadata": {
    "collapsed": false
   },
   "outputs": [
    {
     "name": "stdout",
     "output_type": "stream",
     "text": [
      "prices_cat value_counts:\n",
      "(-1, 0]          100873\n",
      "(500, 1000]       51553\n",
      "(200, 400]        43180\n",
      "(400, 500]        37297\n",
      "(1500, 2000]      30300\n",
      "(100, 200]        26503\n",
      "(0, 100]          22984\n",
      "(2000, 3000]      18953\n",
      "(3000, 40000]     18766\n",
      "(1000, 1500]      10289\n",
      "Name: prices_cat09, dtype: int64\n",
      "maximum of salestimediff: 4626.0\n",
      "maximum year of salestimediff: 13\n",
      "salestimediff_bin: [-1, 0, 30, 60, 90, 120, 150, 180, 210, 240, 270, 300, 330, 360, 390, 420, 450, 480, 510, 540, 570, 600, 630, 660, 690, 720, 750, 780, 810, 840, 870, 900, 930, 960, 990, 1020, 1050, 1080, 1440, 1800, 2160, 2520, 2880, 3240, 3600, 3960, 4320, 4680]\n",
      "salestimediff_cat value_counts:\n",
      "(1080, 1440]    27234\n",
      "(720, 750]      24390\n",
      "(420, 450]      20618\n",
      "(1440, 1800]    19169\n",
      "(960, 990]      14562\n",
      "(360, 390]      12647\n",
      "(-1, 0]          7729\n",
      "(1800, 2160]     7670\n",
      "(870, 900]       7426\n",
      "(540, 570]       7271\n",
      "(480, 510]       7229\n",
      "(690, 720]       6407\n",
      "(570, 600]       4845\n",
      "(1050, 1080]     4205\n",
      "(660, 690]       3606\n",
      "(630, 660]       3362\n",
      "(240, 270]       3346\n",
      "(900, 930]       3100\n",
      "(2160, 2520]     2877\n",
      "(450, 480]       2534\n",
      "(750, 780]       2490\n",
      "(150, 180]       2265\n",
      "(600, 630]       2084\n",
      "(390, 420]       1959\n",
      "(3240, 3600]     1812\n",
      "(810, 840]       1779\n",
      "(330, 360]       1700\n",
      "(300, 330]       1547\n",
      "(510, 540]       1483\n",
      "(2880, 3240]     1477\n",
      "(270, 300]       1396\n",
      "(1020, 1050]     1375\n",
      "(780, 810]       1235\n",
      "(840, 870]       1211\n",
      "(930, 960]        973\n",
      "(3600, 3960]      853\n",
      "(120, 150]        851\n",
      "(180, 210]        812\n",
      "(60, 90]          666\n",
      "(2520, 2880]      636\n",
      "(90, 120]         574\n",
      "(990, 1020]       558\n",
      "(30, 60]          389\n",
      "(210, 240]        116\n",
      "(3960, 4320]        6\n",
      "(4320, 4680]        1\n",
      "(0, 30]             0\n",
      "Name: salestimediff_cat09, dtype: int64\n",
      "salestimediff_cat length:\n",
      "(47,)\n",
      "prices_cat value_counts:\n",
      "(-1, 0]          99536\n",
      "(500, 1000]      52288\n",
      "(200, 400]       42951\n",
      "(400, 500]       36850\n",
      "(1500, 2000]     30883\n",
      "(100, 200]       25948\n",
      "(0, 100]         22486\n",
      "(3000, 40000]    20052\n",
      "(2000, 3000]     19025\n",
      "(1000, 1500]     10679\n",
      "Name: prices_cat10, dtype: int64\n",
      "maximum of salestimediff: 4656.0\n",
      "maximum year of salestimediff: 13\n",
      "salestimediff_bin: [-1, 0, 30, 60, 90, 120, 150, 180, 210, 240, 270, 300, 330, 360, 390, 420, 450, 480, 510, 540, 570, 600, 630, 660, 690, 720, 750, 780, 810, 840, 870, 900, 930, 960, 990, 1020, 1050, 1080, 1440, 1800, 2160, 2520, 2880, 3240, 3600, 3960, 4320, 4680]\n",
      "salestimediff_cat value_counts:\n",
      "(1080, 1440]    30441\n",
      "(750, 780]      24581\n",
      "(450, 480]      21020\n",
      "(1800, 2160]    16001\n",
      "(990, 1020]     14199\n",
      "(390, 420]      13204\n",
      "(1440, 1800]    10315\n",
      "(0, 30]          8035\n",
      "(570, 600]       7215\n",
      "(900, 930]       7194\n",
      "(510, 540]       7164\n",
      "(720, 750]       6298\n",
      "(600, 630]       4823\n",
      "(270, 300]       3646\n",
      "(690, 720]       3512\n",
      "(660, 690]       3308\n",
      "(930, 960]       2997\n",
      "(180, 210]       2776\n",
      "(480, 510]       2557\n",
      "(780, 810]       2442\n",
      "(2160, 2520]     2273\n",
      "(630, 660]       2108\n",
      "(420, 450]       1989\n",
      "(360, 390]       1824\n",
      "(3240, 3600]     1744\n",
      "(840, 870]       1735\n",
      "(330, 360]       1620\n",
      "(300, 330]       1535\n",
      "(540, 570]       1457\n",
      "(2880, 3240]     1422\n",
      "(1050, 1080]     1337\n",
      "(810, 840]       1217\n",
      "(150, 180]       1180\n",
      "(870, 900]       1172\n",
      "(2520, 2880]     1156\n",
      "(90, 120]        1000\n",
      "(960, 990]        927\n",
      "(60, 90]          863\n",
      "(210, 240]        845\n",
      "(3600, 3960]      821\n",
      "(120, 150]        719\n",
      "(1020, 1050]      541\n",
      "(-1, 0]           373\n",
      "(240, 270]        113\n",
      "(3960, 4320]        6\n",
      "(4320, 4680]        1\n",
      "(30, 60]            0\n",
      "Name: salestimediff_cat10, dtype: int64\n",
      "salestimediff_cat length:\n",
      "(47,)\n"
     ]
    },
    {
     "data": {
      "text/html": [
       "<div>\n",
       "<style>\n",
       "    .dataframe thead tr:only-child th {\n",
       "        text-align: right;\n",
       "    }\n",
       "\n",
       "    .dataframe thead th {\n",
       "        text-align: left;\n",
       "    }\n",
       "\n",
       "    .dataframe tbody tr th {\n",
       "        vertical-align: top;\n",
       "    }\n",
       "</style>\n",
       "<table border=\"1\" class=\"dataframe\">\n",
       "  <thead>\n",
       "    <tr style=\"text-align: right;\">\n",
       "      <th></th>\n",
       "      <th>net</th>\n",
       "      <th>age_17岁以下</th>\n",
       "      <th>age_18-22</th>\n",
       "      <th>age_23-25</th>\n",
       "      <th>age_26-29</th>\n",
       "      <th>age_30-39</th>\n",
       "      <th>age_40-49</th>\n",
       "      <th>age_50-59</th>\n",
       "      <th>age_60以上</th>\n",
       "      <th>age_未知</th>\n",
       "      <th>...</th>\n",
       "      <th>salestimediff_cat_(1440, 1800]</th>\n",
       "      <th>salestimediff_cat_(1800, 2160]</th>\n",
       "      <th>salestimediff_cat_(2160, 2520]</th>\n",
       "      <th>salestimediff_cat_(2520, 2880]</th>\n",
       "      <th>salestimediff_cat_(2880, 3240]</th>\n",
       "      <th>salestimediff_cat_(3240, 3600]</th>\n",
       "      <th>salestimediff_cat_(3600, 3960]</th>\n",
       "      <th>salestimediff_cat_(3960, 4320]</th>\n",
       "      <th>salestimediff_cat_(4320, 4680]</th>\n",
       "      <th>Flag</th>\n",
       "    </tr>\n",
       "  </thead>\n",
       "  <tbody>\n",
       "    <tr>\n",
       "      <th>0</th>\n",
       "      <td>0.0</td>\n",
       "      <td>0.0</td>\n",
       "      <td>0.0</td>\n",
       "      <td>0.0</td>\n",
       "      <td>0.0</td>\n",
       "      <td>1.0</td>\n",
       "      <td>0.0</td>\n",
       "      <td>0.0</td>\n",
       "      <td>0.0</td>\n",
       "      <td>0.0</td>\n",
       "      <td>...</td>\n",
       "      <td>0.0</td>\n",
       "      <td>0.0</td>\n",
       "      <td>0.0</td>\n",
       "      <td>0.0</td>\n",
       "      <td>0.0</td>\n",
       "      <td>0.0</td>\n",
       "      <td>0.0</td>\n",
       "      <td>0.0</td>\n",
       "      <td>0.0</td>\n",
       "      <td>0</td>\n",
       "    </tr>\n",
       "    <tr>\n",
       "      <th>1</th>\n",
       "      <td>1.0</td>\n",
       "      <td>0.0</td>\n",
       "      <td>0.0</td>\n",
       "      <td>0.0</td>\n",
       "      <td>0.0</td>\n",
       "      <td>1.0</td>\n",
       "      <td>0.0</td>\n",
       "      <td>0.0</td>\n",
       "      <td>0.0</td>\n",
       "      <td>0.0</td>\n",
       "      <td>...</td>\n",
       "      <td>0.0</td>\n",
       "      <td>0.0</td>\n",
       "      <td>0.0</td>\n",
       "      <td>0.0</td>\n",
       "      <td>0.0</td>\n",
       "      <td>0.0</td>\n",
       "      <td>0.0</td>\n",
       "      <td>0.0</td>\n",
       "      <td>0.0</td>\n",
       "      <td>0</td>\n",
       "    </tr>\n",
       "    <tr>\n",
       "      <th>2</th>\n",
       "      <td>1.0</td>\n",
       "      <td>0.0</td>\n",
       "      <td>0.0</td>\n",
       "      <td>0.0</td>\n",
       "      <td>0.0</td>\n",
       "      <td>1.0</td>\n",
       "      <td>0.0</td>\n",
       "      <td>0.0</td>\n",
       "      <td>0.0</td>\n",
       "      <td>0.0</td>\n",
       "      <td>...</td>\n",
       "      <td>0.0</td>\n",
       "      <td>0.0</td>\n",
       "      <td>0.0</td>\n",
       "      <td>0.0</td>\n",
       "      <td>0.0</td>\n",
       "      <td>0.0</td>\n",
       "      <td>0.0</td>\n",
       "      <td>0.0</td>\n",
       "      <td>0.0</td>\n",
       "      <td>0</td>\n",
       "    </tr>\n",
       "    <tr>\n",
       "      <th>3</th>\n",
       "      <td>1.0</td>\n",
       "      <td>0.0</td>\n",
       "      <td>0.0</td>\n",
       "      <td>0.0</td>\n",
       "      <td>0.0</td>\n",
       "      <td>1.0</td>\n",
       "      <td>0.0</td>\n",
       "      <td>0.0</td>\n",
       "      <td>0.0</td>\n",
       "      <td>0.0</td>\n",
       "      <td>...</td>\n",
       "      <td>0.0</td>\n",
       "      <td>0.0</td>\n",
       "      <td>0.0</td>\n",
       "      <td>0.0</td>\n",
       "      <td>0.0</td>\n",
       "      <td>0.0</td>\n",
       "      <td>0.0</td>\n",
       "      <td>0.0</td>\n",
       "      <td>0.0</td>\n",
       "      <td>0</td>\n",
       "    </tr>\n",
       "    <tr>\n",
       "      <th>4</th>\n",
       "      <td>1.0</td>\n",
       "      <td>0.0</td>\n",
       "      <td>0.0</td>\n",
       "      <td>0.0</td>\n",
       "      <td>0.0</td>\n",
       "      <td>1.0</td>\n",
       "      <td>0.0</td>\n",
       "      <td>0.0</td>\n",
       "      <td>0.0</td>\n",
       "      <td>0.0</td>\n",
       "      <td>...</td>\n",
       "      <td>1.0</td>\n",
       "      <td>0.0</td>\n",
       "      <td>0.0</td>\n",
       "      <td>0.0</td>\n",
       "      <td>0.0</td>\n",
       "      <td>0.0</td>\n",
       "      <td>0.0</td>\n",
       "      <td>0.0</td>\n",
       "      <td>0.0</td>\n",
       "      <td>0</td>\n",
       "    </tr>\n",
       "  </tbody>\n",
       "</table>\n",
       "<p>5 rows × 120 columns</p>\n",
       "</div>"
      ],
      "text/plain": [
       "   net  age_17岁以下  age_18-22  age_23-25  age_26-29  age_30-39  age_40-49  \\\n",
       "0  0.0        0.0        0.0        0.0        0.0        1.0        0.0   \n",
       "1  1.0        0.0        0.0        0.0        0.0        1.0        0.0   \n",
       "2  1.0        0.0        0.0        0.0        0.0        1.0        0.0   \n",
       "3  1.0        0.0        0.0        0.0        0.0        1.0        0.0   \n",
       "4  1.0        0.0        0.0        0.0        0.0        1.0        0.0   \n",
       "\n",
       "   age_50-59  age_60以上  age_未知  ...   salestimediff_cat_(1440, 1800]  \\\n",
       "0        0.0       0.0     0.0  ...                              0.0   \n",
       "1        0.0       0.0     0.0  ...                              0.0   \n",
       "2        0.0       0.0     0.0  ...                              0.0   \n",
       "3        0.0       0.0     0.0  ...                              0.0   \n",
       "4        0.0       0.0     0.0  ...                              1.0   \n",
       "\n",
       "   salestimediff_cat_(1800, 2160]  salestimediff_cat_(2160, 2520]  \\\n",
       "0                             0.0                             0.0   \n",
       "1                             0.0                             0.0   \n",
       "2                             0.0                             0.0   \n",
       "3                             0.0                             0.0   \n",
       "4                             0.0                             0.0   \n",
       "\n",
       "   salestimediff_cat_(2520, 2880]  salestimediff_cat_(2880, 3240]  \\\n",
       "0                             0.0                             0.0   \n",
       "1                             0.0                             0.0   \n",
       "2                             0.0                             0.0   \n",
       "3                             0.0                             0.0   \n",
       "4                             0.0                             0.0   \n",
       "\n",
       "   salestimediff_cat_(3240, 3600]  salestimediff_cat_(3600, 3960]  \\\n",
       "0                             0.0                             0.0   \n",
       "1                             0.0                             0.0   \n",
       "2                             0.0                             0.0   \n",
       "3                             0.0                             0.0   \n",
       "4                             0.0                             0.0   \n",
       "\n",
       "   salestimediff_cat_(3960, 4320]  salestimediff_cat_(4320, 4680]  Flag  \n",
       "0                             0.0                             0.0     0  \n",
       "1                             0.0                             0.0     0  \n",
       "2                             0.0                             0.0     0  \n",
       "3                             0.0                             0.0     0  \n",
       "4                             0.0                             0.0     0  \n",
       "\n",
       "[5 rows x 120 columns]"
      ]
     },
     "execution_count": 266,
     "metadata": {},
     "output_type": "execute_result"
    }
   ],
   "source": [
    "# comment: mon is string\n",
    "def genTrainSet(mon1, mon2):\n",
    "    # tsFeat = featGenerate(mon1)\n",
    "    # tsFeat = featGenerate2(mon1)\n",
    "    tsFeat = featGenerate3(mon1)\n",
    "    tsLabel = labelGenerate(df_me_piv, mon1, mon2)\n",
    "    op = pd.concat([tsFeat, tsLabel], axis=1)\n",
    "    return op\n",
    "\n",
    "df_train_09 = genTrainSet('09', '10')\n",
    "df_train_10 = genTrainSet('10', '11')\n",
    "df_train_f = pd.concat([df_train_09, df_train_10], axis=0, ignore_index=True)\n",
    "df_train_f.head()"
   ]
  },
  {
   "cell_type": "code",
   "execution_count": 228,
   "metadata": {
    "collapsed": false
   },
   "outputs": [],
   "source": [
    "# Summary(df_train_f).to_csv('Summary_df_train_f.csv')"
   ]
  },
  {
   "cell_type": "code",
   "execution_count": 229,
   "metadata": {
    "collapsed": false
   },
   "outputs": [
    {
     "data": {
      "text/plain": [
       "0    0.818865\n",
       "1    0.181135\n",
       "Name: Flag, dtype: float64"
      ]
     },
     "execution_count": 229,
     "metadata": {},
     "output_type": "execute_result"
    }
   ],
   "source": [
    "# 计算训练集正负样本比例\n",
    "st = df_train_f.Flag.value_counts()\n",
    "st.div(st.sum())"
   ]
  },
  {
   "cell_type": "code",
   "execution_count": 269,
   "metadata": {
    "collapsed": false
   },
   "outputs": [
    {
     "data": {
      "text/plain": [
       "Index([u'net', u'age_17岁以下', u'age_18-22', u'age_23-25', u'age_26-29',\n",
       "       u'age_30-39', u'age_40-49', u'age_50-59', u'age_60以上', u'age_未知',\n",
       "       ...\n",
       "       u'salestimediff_cat_(1440, 1800]', u'salestimediff_cat_(1800, 2160]',\n",
       "       u'salestimediff_cat_(2160, 2520]', u'salestimediff_cat_(2520, 2880]',\n",
       "       u'salestimediff_cat_(2880, 3240]', u'salestimediff_cat_(3240, 3600]',\n",
       "       u'salestimediff_cat_(3600, 3960]', u'salestimediff_cat_(3960, 4320]',\n",
       "       u'salestimediff_cat_(4320, 4680]', u'Flag'],\n",
       "      dtype='object', length=120)"
      ]
     },
     "execution_count": 269,
     "metadata": {},
     "output_type": "execute_result"
    }
   ],
   "source": [
    "df_train_f.columns"
   ]
  },
  {
   "cell_type": "code",
   "execution_count": 270,
   "metadata": {
    "collapsed": false
   },
   "outputs": [],
   "source": [
    "m, n = np.shape(df_train_f)\n",
    "X = df_train_f.iloc[:, :(n-1)].values\n",
    "y = df_train_f.iloc[:, -1].values"
   ]
  },
  {
   "cell_type": "markdown",
   "metadata": {},
   "source": [
    "## Training"
   ]
  },
  {
   "cell_type": "code",
   "execution_count": 271,
   "metadata": {
    "collapsed": false
   },
   "outputs": [],
   "source": [
    "from sklearn.linear_model import LogisticRegression\n",
    "\n",
    "from sklearn.model_selection import train_test_split\n",
    "from sklearn.grid_search import GridSearchCV\n",
    "from sklearn.metrics import classification_report\n",
    "from sklearn.metrics import precision_recall_curve, roc_curve, auc, roc_auc_score"
   ]
  },
  {
   "cell_type": "code",
   "execution_count": 272,
   "metadata": {
    "collapsed": false
   },
   "outputs": [
    {
     "name": "stdout",
     "output_type": "stream",
     "text": [
      "(504977, 119)\n",
      "(216419, 119)\n",
      "0.30000027724\n"
     ]
    }
   ],
   "source": [
    "X_train, X_test, y_train, y_test = train_test_split(X, y, test_size=0.3, random_state=0)\n",
    "print np.shape(X_train)\n",
    "print np.shape(X_test)\n",
    "print np.shape(X_test)[0] * 1.0 / (np.shape(X_train)[0]+np.shape(X_test)[0])"
   ]
  },
  {
   "cell_type": "code",
   "execution_count": 273,
   "metadata": {
    "collapsed": false
   },
   "outputs": [],
   "source": [
    "# BaseLine by LogisticRegression\n",
    "LR = LogisticRegression()\n",
    "LR.fit(X_train, y_train)\n",
    "\n",
    "yDF = LR.decision_function(X_train)\n",
    "yHat = LR.predict(X_train)\n",
    "yScore = LR.predict_proba(X_train)\n",
    "y_testHat = LR.predict(X_test)\n",
    "y_testScore = LR.predict_proba(X_test)"
   ]
  },
  {
   "cell_type": "code",
   "execution_count": 26,
   "metadata": {
    "collapsed": false
   },
   "outputs": [
    {
     "name": "stdout",
     "output_type": "stream",
     "text": [
      "[[-1.21534622]\n",
      " [-1.76453161]\n",
      " [-1.41870149]\n",
      " ..., \n",
      " [-1.28813755]\n",
      " [-1.34659094]\n",
      " [-1.32841887]]\n",
      "\n",
      "\n",
      "[-1.21534622 -1.76453161 -1.41870149 ..., -1.28813755 -1.34659094\n",
      " -1.32841887]\n"
     ]
    }
   ],
   "source": [
    "# 1. 理解coef_和intercept_\n",
    "# LR.coef_\n",
    "# LR.intercept_\n",
    "print X_train * np.mat(LR.coef_).T + LR.intercept_\n",
    "print '\\n'\n",
    "\n",
    "# 2. 理解decision_function\n",
    "# decision_function 实际上就是wTx+b\n",
    "# np.shape(X_train)\n",
    "# np.shape(LR.decision_function(X_train))\n",
    "print LR.decision_function(X_train)\n",
    "# decision_function 大于0 y_proba > 0.5 正例\n",
    "\n",
    "# 3. predict与predict_proba\n",
    "# predict函数源码原理\n",
    "# a.计算decision_function scores = LR.decision_function(X_train)\n",
    "# b."
   ]
  },
  {
   "cell_type": "code",
   "execution_count": 27,
   "metadata": {
    "collapsed": false
   },
   "outputs": [
    {
     "data": {
      "text/plain": [
       "0"
      ]
     },
     "execution_count": 27,
     "metadata": {},
     "output_type": "execute_result"
    }
   ],
   "source": [
    "np.sum(LR.decision_function(X_train) > 0)"
   ]
  },
  {
   "cell_type": "code",
   "execution_count": 28,
   "metadata": {
    "collapsed": false
   },
   "outputs": [
    {
     "data": {
      "text/plain": [
       "array([0, 1])"
      ]
     },
     "execution_count": 28,
     "metadata": {},
     "output_type": "execute_result"
    }
   ],
   "source": [
    "LR.classes_"
   ]
  },
  {
   "cell_type": "code",
   "execution_count": 153,
   "metadata": {
    "collapsed": true
   },
   "outputs": [],
   "source": []
  },
  {
   "cell_type": "code",
   "execution_count": 247,
   "metadata": {
    "collapsed": false
   },
   "outputs": [
    {
     "data": {
      "text/plain": [
       "<matplotlib.text.Text at 0x16c20f9d0>"
      ]
     },
     "execution_count": 247,
     "metadata": {},
     "output_type": "execute_result"
    },
    {
     "data": {
      "image/png": "[encoded data removed]",
      "text/plain": [
       "<matplotlib.figure.Figure at 0x17dfe4d10>"
      ]
     },
     "metadata": {},
     "output_type": "display_data"
    }
   ],
   "source": [
    "# pr-curve\n",
    "# Note: this implementation is restricted to the binary classification task.\n",
    "# Note: Parameter probas_pred can be Estimated probabilities or decision function.\n",
    "\n",
    "precision, recall, thresholds = precision_recall_curve(y_train, yDF)\n",
    "# precision_recall_curve(y_train, yScore[:, 1])\n",
    "    \n",
    "\n",
    "\n",
    "plt.step(recall, precision, color='b', alpha=0.2,\n",
    "         where='post')\n",
    "plt.fill_between(recall, precision, step='post', alpha=0.2,\n",
    "                 color='b')\n",
    "plt.xlabel('Recall')\n",
    "plt.ylabel('Precision')\n",
    "plt.ylim([0.0, 1.05])\n",
    "plt.xlim([0.0, 1.0])\n",
    "plt.title('2-class Precision-Recall curve')"
   ]
  },
  {
   "cell_type": "code",
   "execution_count": 276,
   "metadata": {
    "collapsed": false
   },
   "outputs": [
    {
     "data": {
      "image/png": "[encoded data removed]",
      "text/plain": [
       "<matplotlib.figure.Figure at 0x17e4a1510>"
      ]
     },
     "metadata": {},
     "output_type": "display_data"
    }
   ],
   "source": [
    "# roc_curve & auc\n",
    "# Compute Receiver operating characteristic (ROC)\n",
    "# Note: this implementation is restricted to the binary classification task.\n",
    "# If labels are not binary, pos_label should be explicitly given.\n",
    "fpr, tpr, thresholds = roc_curve(y_train, yScore[:,1])\n",
    "auc(fpr, tpr)\n",
    "\n",
    "plt.figure(figsize=(6,5))\n",
    "lw = 2\n",
    "plt.plot(fpr, tpr, color='darkorange',\n",
    "         lw=lw, label='ROC curve')\n",
    "plt.plot([0, 1], [0, 1], color='navy', lw=lw, linestyle='--')\n",
    "plt.xlim([0.0, 1.0])\n",
    "plt.ylim([0.0, 1.05])\n",
    "plt.xlabel('False Positive Rate')\n",
    "plt.ylabel('True Positive Rate')\n",
    "plt.title('Receiver Operating Characteristic Curve (AUC = %.5f)'% roc_auc_score(y_train, yScore[:,1]))\n",
    "plt.legend(loc=\"lower right\")\n",
    "plt.show()\n",
    "# plt.savefig('ROC_Curve_Baseline_3.png')"
   ]
  },
  {
   "cell_type": "code",
   "execution_count": 277,
   "metadata": {
    "collapsed": false
   },
   "outputs": [
    {
     "name": "stdout",
     "output_type": "stream",
     "text": [
      "训练集准确度：0.81878\n",
      "训练集AUC：0.68922\n",
      "             precision    recall  f1-score   support\n",
      "\n",
      "          0       0.82      1.00      0.90    413775\n",
      "          1       0.44      0.01      0.02     91202\n",
      "\n",
      "avg / total       0.75      0.82      0.74    504977\n",
      "\n",
      "验证集准确度：0.82\n",
      "验证集AUC：0.68486\n",
      "             precision    recall  f1-score   support\n",
      "\n",
      "          0       0.82      1.00      0.90    176951\n",
      "          1       0.40      0.01      0.02     39468\n",
      "\n",
      "avg / total       0.74      0.82      0.74    216419\n",
      "\n"
     ]
    }
   ],
   "source": [
    "print u'训练集准确度：%.5f' % (np.mean(yHat == y_train))\n",
    "print u'训练集AUC：%.5f'% roc_auc_score(y_train, yScore[:,1])\n",
    "print classification_report(y_train, yHat)\n",
    "\n",
    "print u'验证集准确度：%.2f' % (np.mean(y_testHat == y_test))\n",
    "print u'验证集AUC：%.5f'% roc_auc_score(y_test, y_testScore[:,1])\n",
    "print classification_report(y_test, y_testHat)"
   ]
  },
  {
   "cell_type": "markdown",
   "metadata": {},
   "source": [
    "## Generate TestSet"
   ]
  },
  {
   "cell_type": "code",
   "execution_count": 278,
   "metadata": {
    "collapsed": false
   },
   "outputs": [
    {
     "name": "stdout",
     "output_type": "stream",
     "text": [
      "prices_cat value_counts:\n",
      "(-1, 0]          92859\n",
      "(500, 1000]      49774\n",
      "(200, 400]       40770\n",
      "(400, 500]       38303\n",
      "(1500, 2000]     31654\n",
      "(100, 200]       28936\n",
      "(0, 100]         27346\n",
      "(3000, 40000]    21788\n",
      "(2000, 3000]     18660\n",
      "(1000, 1500]     10608\n",
      "Name: prices_cat11, dtype: int64\n",
      "maximum of salestimediff: 4687.0\n",
      "maximum year of salestimediff: 14\n",
      "salestimediff_bin: [-1, 0, 30, 60, 90, 120, 150, 180, 210, 240, 270, 300, 330, 360, 390, 420, 450, 480, 510, 540, 570, 600, 630, 660, 690, 720, 750, 780, 810, 840, 870, 900, 930, 960, 990, 1020, 1050, 1080, 1440, 1800, 2160, 2520, 2880, 3240, 3600, 3960, 4320, 4680, 5040]\n",
      "salestimediff_cat value_counts:\n",
      "(1080, 1440]    32092\n",
      "(780, 810]      23434\n",
      "(480, 510]      19945\n",
      "(1800, 2160]    16772\n",
      "(1020, 1050]    13941\n",
      "(420, 450]      13624\n",
      "(1440, 1800]    10653\n",
      "(60, 90]         9098\n",
      "(930, 960]       8274\n",
      "(540, 570]       7302\n",
      "(750, 780]       6314\n",
      "(600, 630]       6047\n",
      "(630, 660]       4715\n",
      "(300, 330]       3630\n",
      "(720, 750]       3382\n",
      "(2160, 2520]     3114\n",
      "(690, 720]       3096\n",
      "(210, 240]       2955\n",
      "(960, 990]       2846\n",
      "(390, 420]       2691\n",
      "(450, 480]       2492\n",
      "(510, 540]       2464\n",
      "(810, 840]       2418\n",
      "(360, 390]       2212\n",
      "(2520, 2880]     2151\n",
      "(660, 690]       1987\n",
      "(3240, 3600]     1957\n",
      "(2880, 3240]     1924\n",
      "(120, 150]       1628\n",
      "(330, 360]       1617\n",
      "(90, 120]        1578\n",
      "(180, 210]       1548\n",
      "(570, 600]       1472\n",
      "(840, 870]       1390\n",
      "(870, 900]       1193\n",
      "(900, 930]       1094\n",
      "(3600, 3960]      979\n",
      "(990, 1020]       903\n",
      "(150, 180]        840\n",
      "(30, 60]          756\n",
      "(240, 270]        753\n",
      "(1050, 1080]      519\n",
      "(3960, 4320]      276\n",
      "(-1, 0]           178\n",
      "(270, 300]         66\n",
      "(4320, 4680]        1\n",
      "(4680, 5040]        1\n",
      "(0, 30]             0\n",
      "Name: salestimediff_cat11, dtype: int64\n",
      "salestimediff_cat length:\n",
      "(48,)\n"
     ]
    }
   ],
   "source": [
    "df_train_11 = genTrainSet('11', '12')\n",
    "df_test_f = df_train_11"
   ]
  },
  {
   "cell_type": "code",
   "execution_count": 283,
   "metadata": {
    "collapsed": false
   },
   "outputs": [
    {
     "data": {
      "text/plain": [
       "Index([u'net', u'age_17岁以下', u'age_18-22', u'age_23-25', u'age_26-29',\n",
       "       u'age_30-39', u'age_40-49', u'age_50-59', u'age_60以上', u'age_未知',\n",
       "       ...\n",
       "       u'salestimediff_cat_(1800, 2160]', u'salestimediff_cat_(2160, 2520]',\n",
       "       u'salestimediff_cat_(2520, 2880]', u'salestimediff_cat_(2880, 3240]',\n",
       "       u'salestimediff_cat_(3240, 3600]', u'salestimediff_cat_(3600, 3960]',\n",
       "       u'salestimediff_cat_(3960, 4320]', u'salestimediff_cat_(4320, 4680]',\n",
       "       u'salestimediff_cat_(4680, 5040]', u'Flag'],\n",
       "      dtype='object', length=121)"
      ]
     },
     "execution_count": 283,
     "metadata": {},
     "output_type": "execute_result"
    }
   ],
   "source": [
    "df_test_f.columns"
   ]
  },
  {
   "cell_type": "code",
   "execution_count": 287,
   "metadata": {
    "collapsed": true
   },
   "outputs": [],
   "source": [
    "m, n = np.shape(df_test_f)\n",
    "testX = df_test_f.iloc[:, :(n-2)].values\n",
    "testy = df_test_f.iloc[:, -1].values"
   ]
  },
  {
   "cell_type": "code",
   "execution_count": 288,
   "metadata": {
    "collapsed": false
   },
   "outputs": [
    {
     "name": "stdout",
     "output_type": "stream",
     "text": [
      "测试集准确度：0.74\n",
      "测试集AUC：0.66910\n",
      "             precision    recall  f1-score   support\n",
      "\n",
      "          0       0.74      1.00      0.85    267431\n",
      "          1       0.64      0.01      0.03     93267\n",
      "\n",
      "avg / total       0.72      0.74      0.64    360698\n",
      "\n"
     ]
    }
   ],
   "source": [
    "testyHat = LR.predict(testX)\n",
    "testyScore = LR.predict_proba(testX)\n",
    "print u'测试集准确度：%.2f' % (np.mean(testyHat == testy)) \n",
    "print u'测试集AUC：%.5f'% roc_auc_score(testy, testyScore[:,1])\n",
    "print classification_report(testy, testyHat)"
   ]
  },
  {
   "cell_type": "code",
   "execution_count": 55,
   "metadata": {
    "collapsed": false
   },
   "outputs": [
    {
     "data": {
      "text/html": [
       "<div>\n",
       "<style>\n",
       "    .dataframe thead tr:only-child th {\n",
       "        text-align: right;\n",
       "    }\n",
       "\n",
       "    .dataframe thead th {\n",
       "        text-align: left;\n",
       "    }\n",
       "\n",
       "    .dataframe tbody tr th {\n",
       "        vertical-align: top;\n",
       "    }\n",
       "</style>\n",
       "<table border=\"1\" class=\"dataframe\">\n",
       "  <thead>\n",
       "    <tr style=\"text-align: right;\">\n",
       "      <th></th>\n",
       "      <th></th>\n",
       "      <th>imsi</th>\n",
       "    </tr>\n",
       "    <tr>\n",
       "      <th>brand09</th>\n",
       "      <th>type09</th>\n",
       "      <th></th>\n",
       "    </tr>\n",
       "  </thead>\n",
       "  <tbody>\n",
       "    <tr>\n",
       "      <th rowspan=\"7\" valign=\"top\">苹果</th>\n",
       "      <th>A1429</th>\n",
       "      <td>10008</td>\n",
       "    </tr>\n",
       "    <tr>\n",
       "      <th>A1586</th>\n",
       "      <td>8688</td>\n",
       "    </tr>\n",
       "    <tr>\n",
       "      <th>A1332</th>\n",
       "      <td>8510</td>\n",
       "    </tr>\n",
       "    <tr>\n",
       "      <th>A1528</th>\n",
       "      <td>7557</td>\n",
       "    </tr>\n",
       "    <tr>\n",
       "      <th>A1524</th>\n",
       "      <td>7225</td>\n",
       "    </tr>\n",
       "    <tr>\n",
       "      <th>A1530</th>\n",
       "      <td>6972</td>\n",
       "    </tr>\n",
       "    <tr>\n",
       "      <th>iPhone 4S (A1387)</th>\n",
       "      <td>5348</td>\n",
       "    </tr>\n",
       "    <tr>\n",
       "      <th rowspan=\"3\" valign=\"top\">小米</th>\n",
       "      <th>2013062</th>\n",
       "      <td>3803</td>\n",
       "    </tr>\n",
       "    <tr>\n",
       "      <th>2013029</th>\n",
       "      <td>2862</td>\n",
       "    </tr>\n",
       "    <tr>\n",
       "      <th>2013012</th>\n",
       "      <td>2677</td>\n",
       "    </tr>\n",
       "    <tr>\n",
       "      <th>CINTERION</th>\n",
       "      <th>AHS3-W</th>\n",
       "      <td>2557</td>\n",
       "    </tr>\n",
       "    <tr>\n",
       "      <th>三星</th>\n",
       "      <th>GT-I9300</th>\n",
       "      <td>2038</td>\n",
       "    </tr>\n",
       "    <tr>\n",
       "      <th rowspan=\"2\" valign=\"top\">小米</th>\n",
       "      <th>2013023</th>\n",
       "      <td>1997</td>\n",
       "    </tr>\n",
       "    <tr>\n",
       "      <th>2014021</th>\n",
       "      <td>1996</td>\n",
       "    </tr>\n",
       "    <tr>\n",
       "      <th rowspan=\"2\" valign=\"top\">三星</th>\n",
       "      <th>SM-G7106</th>\n",
       "      <td>1970</td>\n",
       "    </tr>\n",
       "    <tr>\n",
       "      <th>GT-N7100</th>\n",
       "      <td>1889</td>\n",
       "    </tr>\n",
       "    <tr>\n",
       "      <th>诺基亚</th>\n",
       "      <th>Nokia 1050</th>\n",
       "      <td>1714</td>\n",
       "    </tr>\n",
       "    <tr>\n",
       "      <th>三星</th>\n",
       "      <th>GT-I9500</th>\n",
       "      <td>1608</td>\n",
       "    </tr>\n",
       "    <tr>\n",
       "      <th>苹果</th>\n",
       "      <th>A1526</th>\n",
       "      <td>1486</td>\n",
       "    </tr>\n",
       "    <tr>\n",
       "      <th rowspan=\"2\" valign=\"top\">三星</th>\n",
       "      <th>SM-N9002</th>\n",
       "      <td>1467</td>\n",
       "    </tr>\n",
       "    <tr>\n",
       "      <th>GT-I8552</th>\n",
       "      <td>1442</td>\n",
       "    </tr>\n",
       "    <tr>\n",
       "      <th>小米</th>\n",
       "      <th>2013022</th>\n",
       "      <td>1348</td>\n",
       "    </tr>\n",
       "    <tr>\n",
       "      <th>三星</th>\n",
       "      <th>GT-N7102</th>\n",
       "      <td>1276</td>\n",
       "    </tr>\n",
       "    <tr>\n",
       "      <th rowspan=\"3\" valign=\"top\">小米</th>\n",
       "      <th>2014215</th>\n",
       "      <td>1264</td>\n",
       "    </tr>\n",
       "    <tr>\n",
       "      <th>2014719</th>\n",
       "      <td>1237</td>\n",
       "    </tr>\n",
       "    <tr>\n",
       "      <th>2013061</th>\n",
       "      <td>1193</td>\n",
       "    </tr>\n",
       "    <tr>\n",
       "      <th>三星</th>\n",
       "      <th>GT-S7572</th>\n",
       "      <td>1134</td>\n",
       "    </tr>\n",
       "    <tr>\n",
       "      <th>小米</th>\n",
       "      <th>2014811</th>\n",
       "      <td>1128</td>\n",
       "    </tr>\n",
       "    <tr>\n",
       "      <th>三星</th>\n",
       "      <th>SM-N9006</th>\n",
       "      <td>1124</td>\n",
       "    </tr>\n",
       "    <tr>\n",
       "      <th>宏达</th>\n",
       "      <th>HTC D516w</th>\n",
       "      <td>1078</td>\n",
       "    </tr>\n",
       "    <tr>\n",
       "      <th>...</th>\n",
       "      <th>...</th>\n",
       "      <td>...</td>\n",
       "    </tr>\n",
       "    <tr>\n",
       "      <th rowspan=\"29\" valign=\"top\">三星</th>\n",
       "      <th>GT-N7102i</th>\n",
       "      <td>1</td>\n",
       "    </tr>\n",
       "    <tr>\n",
       "      <th>GT-I9250T</th>\n",
       "      <td>1</td>\n",
       "    </tr>\n",
       "    <tr>\n",
       "      <th>GT-I9190</th>\n",
       "      <td>1</td>\n",
       "    </tr>\n",
       "    <tr>\n",
       "      <th>GT-I9100M</th>\n",
       "      <td>1</td>\n",
       "    </tr>\n",
       "    <tr>\n",
       "      <th>GT-I9070P</th>\n",
       "      <td>1</td>\n",
       "    </tr>\n",
       "    <tr>\n",
       "      <th>GT-I9020A</th>\n",
       "      <td>1</td>\n",
       "    </tr>\n",
       "    <tr>\n",
       "      <th>SC-04F</th>\n",
       "      <td>1</td>\n",
       "    </tr>\n",
       "    <tr>\n",
       "      <th>SGH-E250i</th>\n",
       "      <td>1</td>\n",
       "    </tr>\n",
       "    <tr>\n",
       "      <th>SGH-I717</th>\n",
       "      <td>1</td>\n",
       "    </tr>\n",
       "    <tr>\n",
       "      <th>SGH-I727</th>\n",
       "      <td>1</td>\n",
       "    </tr>\n",
       "    <tr>\n",
       "      <th>SM-G710L</th>\n",
       "      <td>1</td>\n",
       "    </tr>\n",
       "    <tr>\n",
       "      <th>SM-G530Y</th>\n",
       "      <td>1</td>\n",
       "    </tr>\n",
       "    <tr>\n",
       "      <th>SM-A500YZ</th>\n",
       "      <td>1</td>\n",
       "    </tr>\n",
       "    <tr>\n",
       "      <th>SM-A500S</th>\n",
       "      <td>1</td>\n",
       "    </tr>\n",
       "    <tr>\n",
       "      <th>SHW-M420K</th>\n",
       "      <td>1</td>\n",
       "    </tr>\n",
       "    <tr>\n",
       "      <th>SHW-M290S</th>\n",
       "      <td>1</td>\n",
       "    </tr>\n",
       "    <tr>\n",
       "      <th>SHW-M290K</th>\n",
       "      <td>1</td>\n",
       "    </tr>\n",
       "    <tr>\n",
       "      <th>SHW-M200S</th>\n",
       "      <td>1</td>\n",
       "    </tr>\n",
       "    <tr>\n",
       "      <th>SHW-M190S</th>\n",
       "      <td>1</td>\n",
       "    </tr>\n",
       "    <tr>\n",
       "      <th>SHV-E470S</th>\n",
       "      <td>1</td>\n",
       "    </tr>\n",
       "    <tr>\n",
       "      <th>SHV-E310S</th>\n",
       "      <td>1</td>\n",
       "    </tr>\n",
       "    <tr>\n",
       "      <th>SHV-E270S</th>\n",
       "      <td>1</td>\n",
       "    </tr>\n",
       "    <tr>\n",
       "      <th>SHV-E270L</th>\n",
       "      <td>1</td>\n",
       "    </tr>\n",
       "    <tr>\n",
       "      <th>SHV-E170L</th>\n",
       "      <td>1</td>\n",
       "    </tr>\n",
       "    <tr>\n",
       "      <th>SGH-i727</th>\n",
       "      <td>1</td>\n",
       "    </tr>\n",
       "    <tr>\n",
       "      <th>SGH-i637</th>\n",
       "      <td>1</td>\n",
       "    </tr>\n",
       "    <tr>\n",
       "      <th>SGH-I997R</th>\n",
       "      <td>1</td>\n",
       "    </tr>\n",
       "    <tr>\n",
       "      <th>SGH-I957M</th>\n",
       "      <td>1</td>\n",
       "    </tr>\n",
       "    <tr>\n",
       "      <th>SGH-I777</th>\n",
       "      <td>1</td>\n",
       "    </tr>\n",
       "    <tr>\n",
       "      <th>龙士康</th>\n",
       "      <th>B318</th>\n",
       "      <td>1</td>\n",
       "    </tr>\n",
       "  </tbody>\n",
       "</table>\n",
       "<p>12450 rows × 1 columns</p>\n",
       "</div>"
      ],
      "text/plain": [
       "                              imsi\n",
       "brand09   type09                  \n",
       "苹果        A1429              10008\n",
       "          A1586               8688\n",
       "          A1332               8510\n",
       "          A1528               7557\n",
       "          A1524               7225\n",
       "          A1530               6972\n",
       "          iPhone 4S (A1387)   5348\n",
       "小米        2013062             3803\n",
       "          2013029             2862\n",
       "          2013012             2677\n",
       "CINTERION AHS3-W              2557\n",
       "三星        GT-I9300            2038\n",
       "小米        2013023             1997\n",
       "          2014021             1996\n",
       "三星        SM-G7106            1970\n",
       "          GT-N7100            1889\n",
       "诺基亚       Nokia 1050          1714\n",
       "三星        GT-I9500            1608\n",
       "苹果        A1526               1486\n",
       "三星        SM-N9002            1467\n",
       "          GT-I8552            1442\n",
       "小米        2013022             1348\n",
       "三星        GT-N7102            1276\n",
       "小米        2014215             1264\n",
       "          2014719             1237\n",
       "          2013061             1193\n",
       "三星        GT-S7572            1134\n",
       "小米        2014811             1128\n",
       "三星        SM-N9006            1124\n",
       "宏达        HTC D516w           1078\n",
       "...                            ...\n",
       "三星        GT-N7102i              1\n",
       "          GT-I9250T              1\n",
       "          GT-I9190               1\n",
       "          GT-I9100M              1\n",
       "          GT-I9070P              1\n",
       "          GT-I9020A              1\n",
       "          SC-04F                 1\n",
       "          SGH-E250i              1\n",
       "          SGH-I717               1\n",
       "          SGH-I727               1\n",
       "          SM-G710L               1\n",
       "          SM-G530Y               1\n",
       "          SM-A500YZ              1\n",
       "          SM-A500S               1\n",
       "          SHW-M420K              1\n",
       "          SHW-M290S              1\n",
       "          SHW-M290K              1\n",
       "          SHW-M200S              1\n",
       "          SHW-M190S              1\n",
       "          SHV-E470S              1\n",
       "          SHV-E310S              1\n",
       "          SHV-E270S              1\n",
       "          SHV-E270L              1\n",
       "          SHV-E170L              1\n",
       "          SGH-i727               1\n",
       "          SGH-i637               1\n",
       "          SGH-I997R              1\n",
       "          SGH-I957M              1\n",
       "          SGH-I777               1\n",
       "龙士康       B318                   1\n",
       "\n",
       "[12450 rows x 1 columns]"
      ]
     },
     "execution_count": 55,
     "metadata": {},
     "output_type": "execute_result"
    }
   ],
   "source": [
    "dfSelCol(df_me_piv, '09').reset_index().groupby(['brand09', 'type09']).count().sort_values(by='imsi', ascending=False)"
   ]
  }
 ],
 "metadata": {
  "kernelspec": {
   "display_name": "Python 2",
   "language": "python",
   "name": "python2"
  },
  "language_info": {
   "codemirror_mode": {
    "name": "ipython",
    "version": 2
   },
   "file_extension": ".py",
   "mimetype": "text/x-python",
   "name": "python",
   "nbconvert_exporter": "python",
   "pygments_lexer": "ipython2",
   "version": "2.7.13"
  }
 },
 "nbformat": 4,
 "nbformat_minor": 2
}
