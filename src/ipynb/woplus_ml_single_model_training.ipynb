{
 "cells": [
  {
   "cell_type": "code",
   "execution_count": 211,
   "metadata": {
    "collapsed": true
   },
   "outputs": [],
   "source": [
    "import numpy as np\n",
    "import pandas as pd\n",
    "import scipy.stats as st\n",
    "import time\n",
    "import matplotlib.pyplot as plt\n",
    "%matplotlib inline\n",
    "title = 'woplus'\n",
    "path = '../../sources/data'\n",
    "\n",
    "# trainset_name = 'fe3_1-4'\n",
    "trainset_name = 'fe3_2-2-1'\n",
    "# trainset_name = 'fe3_2-2-2'"
   ]
  },
  {
   "cell_type": "code",
   "execution_count": 212,
   "metadata": {
    "collapsed": false
   },
   "outputs": [
    {
     "data": {
      "text/plain": [
       "0    0.818865\n",
       "1    0.181135\n",
       "Name: Flag, dtype: float64"
      ]
     },
     "execution_count": 212,
     "metadata": {},
     "output_type": "execute_result"
    }
   ],
   "source": [
    "df_train_f = pd.read_hdf('../../sources/deal/{}.h5'.format(trainset_name), key = trainset_name)\n",
    "# 计算训练集正负样本比例\n",
    "st = df_train_f.Flag.value_counts()\n",
    "st.div(st.sum())"
   ]
  },
  {
   "cell_type": "code",
   "execution_count": 213,
   "metadata": {
    "collapsed": false
   },
   "outputs": [
    {
     "data": {
      "text/html": [
       "<div>\n",
       "<style>\n",
       "    .dataframe thead tr:only-child th {\n",
       "        text-align: right;\n",
       "    }\n",
       "\n",
       "    .dataframe thead th {\n",
       "        text-align: left;\n",
       "    }\n",
       "\n",
       "    .dataframe tbody tr th {\n",
       "        vertical-align: top;\n",
       "    }\n",
       "</style>\n",
       "<table border=\"1\" class=\"dataframe\">\n",
       "  <thead>\n",
       "    <tr style=\"text-align: right;\">\n",
       "      <th></th>\n",
       "      <th>net</th>\n",
       "      <th>age_17岁以下</th>\n",
       "      <th>age_18-22</th>\n",
       "      <th>age_23-25</th>\n",
       "      <th>age_26-29</th>\n",
       "      <th>age_30-39</th>\n",
       "      <th>age_40-49</th>\n",
       "      <th>age_50-59</th>\n",
       "      <th>age_60以上</th>\n",
       "      <th>sex_不详</th>\n",
       "      <th>...</th>\n",
       "      <th>salestimediff_cat_(1440, 1800]</th>\n",
       "      <th>salestimediff_cat_(1800, 2160]</th>\n",
       "      <th>salestimediff_cat_(2160, 2520]</th>\n",
       "      <th>salestimediff_cat_(2520, 2880]</th>\n",
       "      <th>salestimediff_cat_(2880, 3240]</th>\n",
       "      <th>salestimediff_cat_(3240, 3600]</th>\n",
       "      <th>salestimediff_cat_(3600, 3960]</th>\n",
       "      <th>salestimediff_cat_(3960, 4320]</th>\n",
       "      <th>salestimediff_cat_(4320, 4680]</th>\n",
       "      <th>Flag</th>\n",
       "    </tr>\n",
       "  </thead>\n",
       "  <tbody>\n",
       "    <tr>\n",
       "      <th>0</th>\n",
       "      <td>-1.285664</td>\n",
       "      <td>-0.210748</td>\n",
       "      <td>-0.169149</td>\n",
       "      <td>-0.198993</td>\n",
       "      <td>-0.28939</td>\n",
       "      <td>1.241278</td>\n",
       "      <td>-0.480494</td>\n",
       "      <td>-0.385466</td>\n",
       "      <td>-0.340289</td>\n",
       "      <td>-0.139559</td>\n",
       "      <td>...</td>\n",
       "      <td>-0.236911</td>\n",
       "      <td>-0.147399</td>\n",
       "      <td>-0.089668</td>\n",
       "      <td>-0.042028</td>\n",
       "      <td>-0.064122</td>\n",
       "      <td>-0.071056</td>\n",
       "      <td>-0.048687</td>\n",
       "      <td>-0.004079</td>\n",
       "      <td>-0.001665</td>\n",
       "      <td>0</td>\n",
       "    </tr>\n",
       "    <tr>\n",
       "      <th>1</th>\n",
       "      <td>0.777808</td>\n",
       "      <td>-0.210748</td>\n",
       "      <td>-0.169149</td>\n",
       "      <td>-0.198993</td>\n",
       "      <td>-0.28939</td>\n",
       "      <td>1.241278</td>\n",
       "      <td>-0.480494</td>\n",
       "      <td>-0.385466</td>\n",
       "      <td>-0.340289</td>\n",
       "      <td>-0.139559</td>\n",
       "      <td>...</td>\n",
       "      <td>-0.236911</td>\n",
       "      <td>-0.147399</td>\n",
       "      <td>-0.089668</td>\n",
       "      <td>-0.042028</td>\n",
       "      <td>-0.064122</td>\n",
       "      <td>-0.071056</td>\n",
       "      <td>-0.048687</td>\n",
       "      <td>-0.004079</td>\n",
       "      <td>-0.001665</td>\n",
       "      <td>0</td>\n",
       "    </tr>\n",
       "    <tr>\n",
       "      <th>2</th>\n",
       "      <td>0.777808</td>\n",
       "      <td>-0.210748</td>\n",
       "      <td>-0.169149</td>\n",
       "      <td>-0.198993</td>\n",
       "      <td>-0.28939</td>\n",
       "      <td>1.241278</td>\n",
       "      <td>-0.480494</td>\n",
       "      <td>-0.385466</td>\n",
       "      <td>-0.340289</td>\n",
       "      <td>-0.139559</td>\n",
       "      <td>...</td>\n",
       "      <td>-0.236911</td>\n",
       "      <td>-0.147399</td>\n",
       "      <td>-0.089668</td>\n",
       "      <td>-0.042028</td>\n",
       "      <td>-0.064122</td>\n",
       "      <td>-0.071056</td>\n",
       "      <td>-0.048687</td>\n",
       "      <td>-0.004079</td>\n",
       "      <td>-0.001665</td>\n",
       "      <td>0</td>\n",
       "    </tr>\n",
       "    <tr>\n",
       "      <th>3</th>\n",
       "      <td>0.777808</td>\n",
       "      <td>-0.210748</td>\n",
       "      <td>-0.169149</td>\n",
       "      <td>-0.198993</td>\n",
       "      <td>-0.28939</td>\n",
       "      <td>1.241278</td>\n",
       "      <td>-0.480494</td>\n",
       "      <td>-0.385466</td>\n",
       "      <td>-0.340289</td>\n",
       "      <td>-0.139559</td>\n",
       "      <td>...</td>\n",
       "      <td>-0.236911</td>\n",
       "      <td>-0.147399</td>\n",
       "      <td>-0.089668</td>\n",
       "      <td>-0.042028</td>\n",
       "      <td>-0.064122</td>\n",
       "      <td>-0.071056</td>\n",
       "      <td>-0.048687</td>\n",
       "      <td>-0.004079</td>\n",
       "      <td>-0.001665</td>\n",
       "      <td>0</td>\n",
       "    </tr>\n",
       "    <tr>\n",
       "      <th>4</th>\n",
       "      <td>0.777808</td>\n",
       "      <td>-0.210748</td>\n",
       "      <td>-0.169149</td>\n",
       "      <td>-0.198993</td>\n",
       "      <td>-0.28939</td>\n",
       "      <td>1.241278</td>\n",
       "      <td>-0.480494</td>\n",
       "      <td>-0.385466</td>\n",
       "      <td>-0.340289</td>\n",
       "      <td>-0.139559</td>\n",
       "      <td>...</td>\n",
       "      <td>4.220987</td>\n",
       "      <td>-0.147399</td>\n",
       "      <td>-0.089668</td>\n",
       "      <td>-0.042028</td>\n",
       "      <td>-0.064122</td>\n",
       "      <td>-0.071056</td>\n",
       "      <td>-0.048687</td>\n",
       "      <td>-0.004079</td>\n",
       "      <td>-0.001665</td>\n",
       "      <td>0</td>\n",
       "    </tr>\n",
       "  </tbody>\n",
       "</table>\n",
       "<p>5 rows × 119 columns</p>\n",
       "</div>"
      ],
      "text/plain": [
       "        net  age_17岁以下  age_18-22  age_23-25  age_26-29  age_30-39  age_40-49  \\\n",
       "0 -1.285664  -0.210748  -0.169149  -0.198993   -0.28939   1.241278  -0.480494   \n",
       "1  0.777808  -0.210748  -0.169149  -0.198993   -0.28939   1.241278  -0.480494   \n",
       "2  0.777808  -0.210748  -0.169149  -0.198993   -0.28939   1.241278  -0.480494   \n",
       "3  0.777808  -0.210748  -0.169149  -0.198993   -0.28939   1.241278  -0.480494   \n",
       "4  0.777808  -0.210748  -0.169149  -0.198993   -0.28939   1.241278  -0.480494   \n",
       "\n",
       "   age_50-59  age_60以上    sex_不详  ...   salestimediff_cat_(1440, 1800]  \\\n",
       "0  -0.385466 -0.340289 -0.139559  ...                        -0.236911   \n",
       "1  -0.385466 -0.340289 -0.139559  ...                        -0.236911   \n",
       "2  -0.385466 -0.340289 -0.139559  ...                        -0.236911   \n",
       "3  -0.385466 -0.340289 -0.139559  ...                        -0.236911   \n",
       "4  -0.385466 -0.340289 -0.139559  ...                         4.220987   \n",
       "\n",
       "   salestimediff_cat_(1800, 2160]  salestimediff_cat_(2160, 2520]  \\\n",
       "0                       -0.147399                       -0.089668   \n",
       "1                       -0.147399                       -0.089668   \n",
       "2                       -0.147399                       -0.089668   \n",
       "3                       -0.147399                       -0.089668   \n",
       "4                       -0.147399                       -0.089668   \n",
       "\n",
       "   salestimediff_cat_(2520, 2880]  salestimediff_cat_(2880, 3240]  \\\n",
       "0                       -0.042028                       -0.064122   \n",
       "1                       -0.042028                       -0.064122   \n",
       "2                       -0.042028                       -0.064122   \n",
       "3                       -0.042028                       -0.064122   \n",
       "4                       -0.042028                       -0.064122   \n",
       "\n",
       "   salestimediff_cat_(3240, 3600]  salestimediff_cat_(3600, 3960]  \\\n",
       "0                       -0.071056                       -0.048687   \n",
       "1                       -0.071056                       -0.048687   \n",
       "2                       -0.071056                       -0.048687   \n",
       "3                       -0.071056                       -0.048687   \n",
       "4                       -0.071056                       -0.048687   \n",
       "\n",
       "   salestimediff_cat_(3960, 4320]  salestimediff_cat_(4320, 4680]  Flag  \n",
       "0                       -0.004079                       -0.001665     0  \n",
       "1                       -0.004079                       -0.001665     0  \n",
       "2                       -0.004079                       -0.001665     0  \n",
       "3                       -0.004079                       -0.001665     0  \n",
       "4                       -0.004079                       -0.001665     0  \n",
       "\n",
       "[5 rows x 119 columns]"
      ]
     },
     "execution_count": 213,
     "metadata": {},
     "output_type": "execute_result"
    }
   ],
   "source": [
    "df_train_f.head()\n",
    "# df_train_f.iloc[:, 10].plot(kind='kde')"
   ]
  },
  {
   "cell_type": "code",
   "execution_count": 214,
   "metadata": {
    "collapsed": true
   },
   "outputs": [],
   "source": [
    "m, n = np.shape(df_train_f)\n",
    "X = df_train_f.iloc[:, :(n-1)]\n",
    "y = df_train_f.iloc[:, -1]\n",
    "irx = list(X.index)"
   ]
  },
  {
   "cell_type": "code",
   "execution_count": 144,
   "metadata": {
    "collapsed": true
   },
   "outputs": [],
   "source": [
    "from sklearn.model_selection import train_test_split, StratifiedKFold, GridSearchCV\n",
    "from sklearn.metrics import classification_report\n",
    "from sklearn.metrics import precision_recall_curve, roc_curve, auc, roc_auc_score, accuracy_score"
   ]
  },
  {
   "cell_type": "code",
   "execution_count": 215,
   "metadata": {
    "collapsed": false
   },
   "outputs": [
    {
     "name": "stdout",
     "output_type": "stream",
     "text": [
      "(721396, 119)\n",
      "(504977, 118)\n",
      "(216419, 118)\n",
      "0.30000027724\n"
     ]
    }
   ],
   "source": [
    "X_train, X_test, y_train, y_test = train_test_split(X.values, y.values, test_size=0.3, random_state=0)\n",
    "print df_train_f.shape\n",
    "print np.shape(X_train)\n",
    "print np.shape(X_test)\n",
    "print np.shape(X_test)[0] * 1.0 / (np.shape(X_train)[0]+np.shape(X_test)[0])"
   ]
  },
  {
   "cell_type": "code",
   "execution_count": 158,
   "metadata": {
    "collapsed": true
   },
   "outputs": [],
   "source": [
    "from sklearn.linear_model import LogisticRegression, LogisticRegressionCV"
   ]
  },
  {
   "cell_type": "code",
   "execution_count": 210,
   "metadata": {
    "collapsed": false
   },
   "outputs": [
    {
     "name": "stdout",
     "output_type": "stream",
     "text": [
      "Training Time: 122.54 seconds\n",
      "LogisticRegression(C=1.0, class_weight=None, dual=False, fit_intercept=True,\n",
      "          intercept_scaling=1, max_iter=100, multi_class='ovr', n_jobs=1,\n",
      "          penalty='l2', random_state=0, solver='liblinear', tol=0.0001,\n",
      "          verbose=0, warm_start=False)\n",
      "0.749330023334\n",
      "0.743675811019\n"
     ]
    }
   ],
   "source": [
    "# 单模型baseline \n",
    "# solver = 'liblear'\n",
    "# lr\n",
    "# BaseLine by LogisticRegression\n",
    "LR = LogisticRegression(random_state=0)\n",
    "timeStart = time.time()\n",
    "LR.fit(X_train, y_train)\n",
    "print(\"Training Time: {:.2f} seconds\".format(time.time() - timeStart))\n",
    "print LR\n",
    "yDF = LR.decision_function(X_train)\n",
    "yHat = LR.predict(X_train)\n",
    "yScore = LR.predict_proba(X_train)\n",
    "y_testHat = LR.predict(X_test)\n",
    "y_testScore = LR.predict_proba(X_test)\n",
    "print roc_auc_score(y_train, yScore[:,1:])\n",
    "print roc_auc_score(y_test, y_testScore[:,1:])\n",
    "\n",
    "# lineargbm\n",
    "# print u'训练集准确度：%.5f' % (np.mean(yHat == y_train))\n",
    "# print u'训练集AUC：%.5f'% roc_auc_score(y_train, yScore[:,1])\n",
    "# print classification_report(y_train, yHat)\n",
    "\n",
    "# print u'验证集准确度：%.2f' % (np.mean(y_testHat == y_test))\n",
    "# print u'验证集AUC：%.5f'% roc_auc_score(y_test, y_testScore[:,1])\n",
    "# print classification_report(y_test, y_testHat)"
   ]
  },
  {
   "cell_type": "code",
   "execution_count": 107,
   "metadata": {
    "collapsed": false
   },
   "outputs": [
    {
     "name": "stdout",
     "output_type": "stream",
     "text": [
      "Training Time: 41.04 seconds\n",
      "LogisticRegression(C=1.0, class_weight=None, dual=False, fit_intercept=True,\n",
      "          intercept_scaling=1, max_iter=100, multi_class='ovr', n_jobs=1,\n",
      "          penalty='l2', random_state=0, solver='sag', tol=0.0001,\n",
      "          verbose=0, warm_start=False)\n",
      "0.747400234163\n",
      "0.742213801257\n"
     ]
    }
   ],
   "source": [
    "# 单模型baseline \n",
    "# solver = 'liblear'\n",
    "# lr2\n",
    "# BaseLine by LogisticRegression\n",
    "# LR2 = LogisticRegression(solver='newton-cg', random_state=0)\n",
    "# LR2 = LogisticRegression(solver='lbfgs', random_state=0)\n",
    "LR2 = LogisticRegression(solver='sag', random_state=0)\n",
    "timeStart = time.time()\n",
    "LR2.fit(X_train, y_train)\n",
    "print (\"Training Time: {:.2f} seconds\".format(time.time() - timeStart))\n",
    "print LR2\n",
    "yDF = LR2.decision_function(X_train)\n",
    "yHat = LR2.predict(X_train)\n",
    "yScore = LR2.predict_proba(X_train)\n",
    "y_testHat = LR2.predict(X_test)\n",
    "y_testScore = LR2.predict_proba(X_test)\n",
    "print roc_auc_score(y_train, yScore[:,1:])\n",
    "print roc_auc_score(y_test, y_testScore[:,1:])"
   ]
  },
  {
   "cell_type": "code",
   "execution_count": 160,
   "metadata": {
    "collapsed": false
   },
   "outputs": [
    {
     "name": "stdout",
     "output_type": "stream",
     "text": [
      "LogisticRegressionCV Time: 1505.35 seconds\n",
      "[ 1.]\n",
      "LogisticRegressionCV(Cs=[0.1, 0.2, 0.4, 0.6, 0.8, 1], class_weight=None,\n",
      "           cv=StratifiedKFold(n_splits=5, random_state=0, shuffle=False),\n",
      "           dual=False, fit_intercept=True, intercept_scaling=1.0,\n",
      "           max_iter=100, multi_class='ovr', n_jobs=1, penalty='l2',\n",
      "           random_state=0, refit=True, scoring='roc_auc',\n",
      "           solver='newton-cg', tol=0.0001, verbose=0)\n",
      "0.747231330836\n",
      "0.742538341318\n"
     ]
    }
   ],
   "source": [
    "# \n",
    "sfold = StratifiedKFold(n_splits=5, random_state=0, shuffle=False)\n",
    "LRCV = LogisticRegressionCV(\n",
    "    Cs=[0.1, 0.2, 0.4, 0.6, 0.8, 1],\n",
    "    penalty='l2',\n",
    "    scoring='roc_auc',\n",
    "    cv=sfold,\n",
    "    random_state=0,\n",
    "    max_iter=100,\n",
    "    solver='newton-cg'\n",
    "    )\n",
    "timeStart = time.time()\n",
    "LRCV.fit(X, y)\n",
    "print(\"LogisticRegressionCV Time: {:.2f} seconds\".format(time.time() - timeStart))\n",
    "print LRCV.C_\n",
    "print LRCV\n",
    "yDF = LRCV.decision_function(X_train)\n",
    "yHat = LRCV.predict(X_train)\n",
    "yScore = LRCV.predict_proba(X_train)\n",
    "y_testHat = LRCV.predict(X_test)\n",
    "y_testScore = LRCV.predict_proba(X_test)\n",
    "print roc_auc_score(y_train, yScore[:,1:])\n",
    "print roc_auc_score(y_test, y_testScore[:,1:])"
   ]
  },
  {
   "cell_type": "code",
   "execution_count": 161,
   "metadata": {
    "collapsed": false
   },
   "outputs": [
    {
     "name": "stdout",
     "output_type": "stream",
     "text": [
      "Training Time: 2538.85 seconds\n",
      "[mean: 0.72682, std: 0.11962, params: {'C': 0.1, 'solver': 'newton-cg'}, mean: 0.72699, std: 0.11948, params: {'C': 0.2, 'solver': 'newton-cg'}, mean: 0.72708, std: 0.11940, params: {'C': 0.4, 'solver': 'newton-cg'}, mean: 0.72712, std: 0.11938, params: {'C': 0.6, 'solver': 'newton-cg'}, mean: 0.72713, std: 0.11937, params: {'C': 0.8, 'solver': 'newton-cg'}, mean: 0.72714, std: 0.11936, params: {'C': 1, 'solver': 'newton-cg'}]\n",
      "{'C': 1, 'solver': 'newton-cg'}\n",
      "0.727140350592\n"
     ]
    },
    {
     "name": "stderr",
     "output_type": "stream",
     "text": [
      "/Users/fanghan/anaconda/lib/python2.7/site-packages/sklearn/model_selection/_search.py:747: DeprecationWarning: The grid_scores_ attribute was deprecated in version 0.18 in favor of the more elaborate cv_results_ attribute. The grid_scores_ attribute will not be available from 0.20\n",
      "  DeprecationWarning)\n"
     ]
    }
   ],
   "source": [
    "# using GridSearch\n",
    "grid = {\n",
    "    'C': [0.1, 0.2, 0.4, 0.6, 0.8, 1],\n",
    "    'solver': ['newton-cg']\n",
    "}\n",
    "clf = LogisticRegression(penalty='l2', random_state=0)\n",
    "# max_inter? 意义是什么\n",
    "gs = GridSearchCV(clf, grid, scoring='roc_auc', cv=sfold)\n",
    "timeStart = time.time()\n",
    "gs.fit(X, y)\n",
    "print (\"Training Time: {:.2f} seconds\".format(time.time() - timeStart))\n",
    "print gs.grid_scores_\n",
    "print gs.best_params_\n",
    "print gs.best_score_"
   ]
  },
  {
   "cell_type": "markdown",
   "metadata": {},
   "source": [
    "#### LogisticRegressionCV and GridSearchCV give different estimates on same data #6619  ( https://github.com/scikit-learn/scikit-learn/issues/6619 )\n",
    "LogisticRegressionCV.scores_ gives the score for all the folds.  \n",
    "GridSearchCV.best_score_ gives the best mean score over all the folds."
   ]
  },
  {
   "cell_type": "code",
   "execution_count": 133,
   "metadata": {
    "collapsed": false
   },
   "outputs": [
    {
     "data": {
      "text/plain": [
       "0.72714061813319364"
      ]
     },
     "execution_count": 133,
     "metadata": {},
     "output_type": "execute_result"
    }
   ],
   "source": [
    "LRCV.scores_[1].mean(axis=0).max()"
   ]
  },
  {
   "cell_type": "code",
   "execution_count": 196,
   "metadata": {
    "collapsed": false
   },
   "outputs": [
    {
     "name": "stdout",
     "output_type": "stream",
     "text": [
      "Training Time: 10.18 seconds\n",
      "RandomForestClassifier(bootstrap=True, class_weight=None, criterion='gini',\n",
      "            max_depth=None, max_features='auto', max_leaf_nodes=None,\n",
      "            min_impurity_decrease=0.0, min_impurity_split=None,\n",
      "            min_samples_leaf=1, min_samples_split=2,\n",
      "            min_weight_fraction_leaf=0.0, n_estimators=10, n_jobs=1,\n",
      "            oob_score=True, random_state=0, verbose=0, warm_start=False)\n",
      "0.927438894161\n",
      "0.735084481929\n",
      "0.880990619375\n",
      "0.815972719586\n",
      "0.811179519067\n"
     ]
    }
   ],
   "source": [
    "# 随机森林 RFC 默认参数训练\n",
    "# n_estimators = 10\n",
    "# oob_score = True\n",
    "from sklearn.ensemble import RandomForestClassifier\n",
    "RF = RandomForestClassifier(oob_score=True, random_state=0)\n",
    "timeStart = time.time()\n",
    "RF.fit(X_train, y_train)\n",
    "print(\"Training Time: {:.2f} seconds\".format(time.time() - timeStart))\n",
    "print RF\n",
    "yHat = RF.predict(X_train)\n",
    "yScore = RF.predict_proba(X_train)\n",
    "y_testHat = RF.predict(X_test)\n",
    "y_testScore = RF.predict_proba(X_test)\n",
    "print roc_auc_score(y_train, yScore[:,1:])\n",
    "print roc_auc_score(y_test, y_testScore[:,1:])\n",
    "\n",
    "print accuracy_score(yHat, y_train)\n",
    "print accuracy_score(y_testHat, y_test)\n",
    "# Score of the training dataset obtained using an out-of-bag estimate.\n",
    "print RF.oob_score_"
   ]
  },
  {
   "cell_type": "code",
   "execution_count": 197,
   "metadata": {
    "collapsed": false
   },
   "outputs": [
    {
     "name": "stdout",
     "output_type": "stream",
     "text": [
      "Training Time: 76.76 seconds\n",
      "GradientBoostingClassifier(criterion='friedman_mse', init=None,\n",
      "              learning_rate=0.1, loss='deviance', max_depth=3,\n",
      "              max_features=None, max_leaf_nodes=None,\n",
      "              min_impurity_decrease=0.0, min_impurity_split=None,\n",
      "              min_samples_leaf=1, min_samples_split=2,\n",
      "              min_weight_fraction_leaf=0.0, n_estimators=100,\n",
      "              presort='auto', random_state=0, subsample=1.0, verbose=0,\n",
      "              warm_start=False)\n",
      "0.771455121313\n",
      "0.765353994222\n"
     ]
    }
   ],
   "source": [
    "# GBDT\n",
    "from sklearn.ensemble import GradientBoostingClassifier\n",
    "GBDT = GradientBoostingClassifier(random_state=0)\n",
    "timeStart = time.time()\n",
    "GBDT.fit(X_train, y_train)\n",
    "print(\"Training Time: {:.2f} seconds\".format(time.time() - timeStart))\n",
    "# GBDTFit(gbm1, X_train, y_train)\n",
    "print GBDT\n",
    "yHat = GBDT.predict(X_train)\n",
    "yScore = GBDT.predict_proba(X_train)\n",
    "y_testHat = GBDT.predict(X_test)\n",
    "y_testScore = GBDT.predict_proba(X_test)\n",
    "print roc_auc_score(y_train, yScore[:,1:])\n",
    "print roc_auc_score(y_test, y_testScore[:,1:])"
   ]
  },
  {
   "cell_type": "code",
   "execution_count": 198,
   "metadata": {
    "collapsed": false
   },
   "outputs": [
    {
     "name": "stdout",
     "output_type": "stream",
     "text": [
      "Training Time: 11.39 seconds\n",
      "0.771868779262\n",
      "0.765820081442\n"
     ]
    }
   ],
   "source": [
    "# xgb sklearn api\n",
    "import xgboost as xgb\n",
    "classifier = xgb.XGBClassifier(nthread=-1, seed=0)\n",
    "timeStart = time.time()\n",
    "classifier.fit(X_train, y_train)\n",
    "print(\"Training Time: {:.2f} seconds\".format(time.time() - timeStart))\n",
    "yHat = classifier.predict(X_train)\n",
    "yScore = classifier.predict_proba(X_train)\n",
    "y_testHat = classifier.predict(X_test)\n",
    "y_testScore = classifier.predict_proba(X_test)\n",
    "print roc_auc_score(y_train, yScore[:,1:])\n",
    "print roc_auc_score(y_test, y_testScore[:,1:])"
   ]
  },
  {
   "cell_type": "code",
   "execution_count": 222,
   "metadata": {
    "collapsed": false
   },
   "outputs": [
    {
     "data": {
      "text/plain": [
       "['../../sources/model_persistence/XGBC_fe3_2-2-1.pkl']"
      ]
     },
     "execution_count": 222,
     "metadata": {},
     "output_type": "execute_result"
    }
   ],
   "source": [
    "from sklearn.externals import joblib\n",
    "joblib.dump(LR,   '../../sources/model_persistence/LR_{}.pkl'.format(trainset_name))\n",
    "joblib.dump(RF,   '../../sources/model_persistence/RF_{}.pkl'.format(trainset_name))\n",
    "joblib.dump(GBDT, '../../sources/model_persistence/GBDT_{}.pkl'.format(trainset_name))\n",
    "joblib.dump(classifier, '../../sources/model_persistence/XGBC_{}.pkl'.format(trainset_name))\n",
    "# lr = joblib.load('../../sources/model_persistence/LR_{}.pkl'.format(trainset_name))\n",
    "# yHat = lr.predict(X_train)\n",
    "# yScore = lr.predict_proba(X_train)\n",
    "# y_testHat = lr.predict(X_test)\n",
    "# y_testScore = lr.predict_proba(X_test)\n",
    "# print roc_auc_score(y_train, yScore[:,1:])\n",
    "# print roc_auc_score(y_test, y_testScore[:,1:])"
   ]
  }
 ],
 "metadata": {
  "kernelspec": {
   "display_name": "Python 2",
   "language": "python",
   "name": "python2"
  },
  "language_info": {
   "codemirror_mode": {
    "name": "ipython",
    "version": 2
   },
   "file_extension": ".py",
   "mimetype": "text/x-python",
   "name": "python",
   "nbconvert_exporter": "python",
   "pygments_lexer": "ipython2",
   "version": "2.7.13"
  }
 },
 "nbformat": 4,
 "nbformat_minor": 2
}
