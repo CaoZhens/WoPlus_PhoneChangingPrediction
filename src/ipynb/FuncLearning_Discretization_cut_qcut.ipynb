{
 "cells": [
  {
   "cell_type": "code",
   "execution_count": 2,
   "metadata": {
    "collapsed": true
   },
   "outputs": [],
   "source": [
    "import numpy as np\n",
    "import pandas as pd\n",
    "\n",
    "array = [3, 60, 43, 100, 52, 36, 37, 0, 80, 1000]"
   ]
  },
  {
   "cell_type": "code",
   "execution_count": 5,
   "metadata": {
    "collapsed": false
   },
   "outputs": [
    {
     "data": {
      "text/plain": [
       "[(-1.0, 250.0], (-1.0, 250.0], (-1.0, 250.0], (-1.0, 250.0], (-1.0, 250.0], (-1.0, 250.0], (-1.0, 250.0], (-1.0, 250.0], (-1.0, 250.0], (750.0, 1000.0]]\n",
       "Categories (4, interval[float64]): [(-1.0, 250.0] < (250.0, 500.0] < (500.0, 750.0] < (750.0, 1000.0]]"
      ]
     },
     "execution_count": 5,
     "metadata": {},
     "output_type": "execute_result"
    }
   ],
   "source": [
    "# If bins is an int, it defines \n",
    "# the number of equal-width bins in the range of x.\n",
    "pd.cut(array, 4)"
   ]
  },
  {
   "cell_type": "code",
   "execution_count": 4,
   "metadata": {
    "collapsed": false
   },
   "outputs": [
    {
     "data": {
      "text/plain": [
       "[(0, 25], (50, 75], (25, 50], (75, 100], (50, 75], (25, 50], (25, 50], NaN, (75, 100], NaN]\n",
       "Categories (4, interval[int64]): [(0, 25] < (25, 50] < (50, 75] < (75, 100]]"
      ]
     },
     "execution_count": 4,
     "metadata": {},
     "output_type": "execute_result"
    }
   ],
   "source": [
    "# If bins is a sequence it defines \n",
    "# the bin edges allowing for non-uniform bin width. \n",
    "pd.cut(array, [0, 25, 50, 75, 100])"
   ]
  },
  {
   "cell_type": "code",
   "execution_count": 7,
   "metadata": {
    "collapsed": false
   },
   "outputs": [
    {
     "name": "stdout",
     "output_type": "stream",
     "text": [
      "[ 0  2  1  3  2  1  1 -1  3 -1]\n",
      "(25, 50]     3\n",
      "(75, 100]    2\n",
      "(50, 75]     2\n",
      "(0, 25]      1\n",
      "dtype: int64\n"
     ]
    }
   ],
   "source": [
    "cat = pd.cut(array, [0, 25, 50, 75, 100])\n",
    "print cat.codes\n",
    "print pd.value_counts(cat)"
   ]
  },
  {
   "cell_type": "code",
   "execution_count": 10,
   "metadata": {
    "collapsed": false,
    "scrolled": true
   },
   "outputs": [
    {
     "name": "stdout",
     "output_type": "stream",
     "text": [
      "[(-0.001, 36.25], (47.5, 75.0], (36.25, 47.5], (75.0, 1000.0], (47.5, 75.0], (-0.001, 36.25], (36.25, 47.5], (-0.001, 36.25], (75.0, 1000.0], (75.0, 1000.0]]\n",
      "Categories (4, interval[float64]): [(-0.001, 36.25] < (36.25, 47.5] < (47.5, 75.0] < (75.0, 1000.0]]\n",
      "(75.0, 1000.0]     3\n",
      "(-0.001, 36.25]    3\n",
      "(47.5, 75.0]       2\n",
      "(36.25, 47.5]      2\n",
      "dtype: int64\n"
     ]
    }
   ],
   "source": [
    "cat = pd.qcut(array, 4)\n",
    "print cat\n",
    "print pd.value_counts(cat)"
   ]
  },
  {
   "cell_type": "code",
   "execution_count": 12,
   "metadata": {
    "collapsed": false
   },
   "outputs": [
    {
     "name": "stdout",
     "output_type": "stream",
     "text": [
      "[(-0.001, 29.4], (55.2, 84.0], (40.6, 55.2], (84.0, 1000.0], (40.6, 55.2], (29.4, 40.6], (29.4, 40.6], (-0.001, 29.4], (55.2, 84.0], (84.0, 1000.0]]\n",
      "Categories (5, interval[float64]): [(-0.001, 29.4] < (29.4, 40.6] < (40.6, 55.2] < (55.2, 84.0] < (84.0, 1000.0]]\n",
      "(84.0, 1000.0]    2\n",
      "(55.2, 84.0]      2\n",
      "(40.6, 55.2]      2\n",
      "(29.4, 40.6]      2\n",
      "(-0.001, 29.4]    2\n",
      "dtype: int64\n"
     ]
    }
   ],
   "source": [
    "cat = pd.qcut(array, [0, .2, .4, .6, .8, 1])\n",
    "print cat\n",
    "print pd.value_counts(cat)"
   ]
  }
 ],
 "metadata": {
  "kernelspec": {
   "display_name": "Python 2",
   "language": "python",
   "name": "python2"
  },
  "language_info": {
   "codemirror_mode": {
    "name": "ipython",
    "version": 2
   },
   "file_extension": ".py",
   "mimetype": "text/x-python",
   "name": "python",
   "nbconvert_exporter": "python",
   "pygments_lexer": "ipython2",
   "version": "2.7.13"
  }
 },
 "nbformat": 4,
 "nbformat_minor": 2
}
