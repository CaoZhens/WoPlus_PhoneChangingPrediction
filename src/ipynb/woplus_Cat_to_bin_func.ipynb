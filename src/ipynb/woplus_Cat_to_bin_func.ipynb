{
 "cells": [
  {
   "cell_type": "code",
   "execution_count": 1,
   "metadata": {
    "collapsed": true
   },
   "outputs": [],
   "source": [
    "import numpy as np\n",
    "import pandas as pd\n",
    "from sklearn.preprocessing import OneHotEncoder\n",
    "\n",
    "title = 'woplus'\n",
    "path = '../../sources/data'"
   ]
  },
  {
   "cell_type": "code",
   "execution_count": 43,
   "metadata": {
    "collapsed": false
   },
   "outputs": [
    {
     "data": {
      "text/plain": [
       "imsi\n",
       "00002ec9f6870677ca801c213ce87c02    3G\n",
       "0000be0fbdbe7f8ff47f7ec3e077e489    2G\n",
       "000166f550781551e1eb11cfcd3f4267    2G\n",
       "0001a48e7fca2e7e3279a5f275525cdb    2G\n",
       "0001b4ebaa72f0e4c2e79a0791bf3002    2G\n",
       "Name: net09, dtype: object"
      ]
     },
     "execution_count": 43,
     "metadata": {},
     "output_type": "execute_result"
    }
   ],
   "source": [
    "df_net = pd.read_table('{}/dataset_2015_filter_net.txt'.format(path), sep='|')\n",
    "df_net_piv = df_net.pivot(index='imsi', columns='mon', values='nettype')\n",
    "df_net_piv.columns = ['net01','net02','net03','net04','net05','net06','net07','net08','net09','net10','net11','net12']\n",
    "df_test1 = df_net_piv.loc[:, 'net09']\n",
    "df_test1.head()"
   ]
  },
  {
   "cell_type": "markdown",
   "metadata": {},
   "source": [
    "## 类别特征作独热编码"
   ]
  },
  {
   "cell_type": "markdown",
   "metadata": {},
   "source": [
    "### 1. pd.get_dummies"
   ]
  },
  {
   "cell_type": "code",
   "execution_count": 52,
   "metadata": {
    "collapsed": false
   },
   "outputs": [
    {
     "data": {
      "text/html": [
       "<div>\n",
       "<style>\n",
       "    .dataframe thead tr:only-child th {\n",
       "        text-align: right;\n",
       "    }\n",
       "\n",
       "    .dataframe thead th {\n",
       "        text-align: left;\n",
       "    }\n",
       "\n",
       "    .dataframe tbody tr th {\n",
       "        vertical-align: top;\n",
       "    }\n",
       "</style>\n",
       "<table border=\"1\" class=\"dataframe\">\n",
       "  <thead>\n",
       "    <tr style=\"text-align: right;\">\n",
       "      <th></th>\n",
       "      <th>net_2G</th>\n",
       "      <th>net_3G</th>\n",
       "    </tr>\n",
       "    <tr>\n",
       "      <th>imsi</th>\n",
       "      <th></th>\n",
       "      <th></th>\n",
       "    </tr>\n",
       "  </thead>\n",
       "  <tbody>\n",
       "    <tr>\n",
       "      <th>00002ec9f6870677ca801c213ce87c02</th>\n",
       "      <td>0</td>\n",
       "      <td>1</td>\n",
       "    </tr>\n",
       "    <tr>\n",
       "      <th>0000be0fbdbe7f8ff47f7ec3e077e489</th>\n",
       "      <td>1</td>\n",
       "      <td>0</td>\n",
       "    </tr>\n",
       "    <tr>\n",
       "      <th>000166f550781551e1eb11cfcd3f4267</th>\n",
       "      <td>1</td>\n",
       "      <td>0</td>\n",
       "    </tr>\n",
       "    <tr>\n",
       "      <th>0001a48e7fca2e7e3279a5f275525cdb</th>\n",
       "      <td>1</td>\n",
       "      <td>0</td>\n",
       "    </tr>\n",
       "    <tr>\n",
       "      <th>0001b4ebaa72f0e4c2e79a0791bf3002</th>\n",
       "      <td>1</td>\n",
       "      <td>0</td>\n",
       "    </tr>\n",
       "  </tbody>\n",
       "</table>\n",
       "</div>"
      ],
      "text/plain": [
       "                                  net_2G  net_3G\n",
       "imsi                                            \n",
       "00002ec9f6870677ca801c213ce87c02       0       1\n",
       "0000be0fbdbe7f8ff47f7ec3e077e489       1       0\n",
       "000166f550781551e1eb11cfcd3f4267       1       0\n",
       "0001a48e7fca2e7e3279a5f275525cdb       1       0\n",
       "0001b4ebaa72f0e4c2e79a0791bf3002       1       0"
      ]
     },
     "execution_count": 52,
     "metadata": {},
     "output_type": "execute_result"
    }
   ],
   "source": [
    "pd.get_dummies(df_test1, prefix='net').head()"
   ]
  },
  {
   "cell_type": "markdown",
   "metadata": {},
   "source": [
    "### 2. sklearn.preprocessing.OneHotEncoder"
   ]
  },
  {
   "cell_type": "code",
   "execution_count": 44,
   "metadata": {
    "collapsed": false
   },
   "outputs": [
    {
     "name": "stdout",
     "output_type": "stream",
     "text": [
      "2G    0.623059\n",
      "3G    0.376941\n",
      "Name: net09, dtype: float64\n",
      "['2G', '3G']\n"
     ]
    },
    {
     "data": {
      "text/plain": [
       "imsi\n",
       "00002ec9f6870677ca801c213ce87c02    2.0\n",
       "0000be0fbdbe7f8ff47f7ec3e077e489    1.0\n",
       "000166f550781551e1eb11cfcd3f4267    1.0\n",
       "0001a48e7fca2e7e3279a5f275525cdb    1.0\n",
       "0001b4ebaa72f0e4c2e79a0791bf3002    1.0\n",
       "dtype: float64"
      ]
     },
     "execution_count": 44,
     "metadata": {},
     "output_type": "execute_result"
    }
   ],
   "source": [
    "# 利用category相关api作category特征数值化\n",
    "tmp = pd.value_counts(df_test1) / df_test1.shape[0]\n",
    "print tmp\n",
    "cat = list(tmp[tmp > 0].index)\n",
    "print cat\n",
    "test1 = df_test1.astype('category').cat.set_categories(cat).cat.rename_categories(1+np.arange(len(cat))).astype('float')\n",
    "test1.head()"
   ]
  },
  {
   "cell_type": "code",
   "execution_count": 45,
   "metadata": {
    "collapsed": false
   },
   "outputs": [
    {
     "data": {
      "text/plain": [
       "array([ 2.,  1.,  1.,  1.,  1.])"
      ]
     },
     "execution_count": 45,
     "metadata": {},
     "output_type": "execute_result"
    }
   ],
   "source": [
    "np.transpose(test1.head().values)"
   ]
  },
  {
   "cell_type": "code",
   "execution_count": 46,
   "metadata": {
    "collapsed": false
   },
   "outputs": [
    {
     "data": {
      "text/plain": [
       "array([[ 2.],\n",
       "       [ 1.],\n",
       "       [ 1.],\n",
       "       [ 1.],\n",
       "       [ 1.]])"
      ]
     },
     "execution_count": 46,
     "metadata": {},
     "output_type": "execute_result"
    }
   ],
   "source": [
    "# Series to array-like X\n",
    "np.transpose([test1.head().values])"
   ]
  },
  {
   "cell_type": "code",
   "execution_count": 47,
   "metadata": {
    "collapsed": false
   },
   "outputs": [
    {
     "data": {
      "text/plain": [
       "array([[ 0.,  1.],\n",
       "       [ 1.,  0.],\n",
       "       [ 1.,  0.],\n",
       "       ..., \n",
       "       [ 0.,  1.],\n",
       "       [ 0.,  1.],\n",
       "       [ 1.,  0.]])"
      ]
     },
     "execution_count": 47,
     "metadata": {},
     "output_type": "execute_result"
    }
   ],
   "source": [
    "# 独热编码\n",
    "# 备注：fit_transform的输入参数必须是array-like\n",
    "from sklearn.preprocessing import OneHotEncoder\n",
    "test1_ohe = OneHotEncoder(n_values=1+len(cat), sparse=False)\n",
    "xbin = test1_ohe.fit_transform(np.transpose([test1.values]))[:,1:]\n",
    "xbin"
   ]
  },
  {
   "cell_type": "code",
   "execution_count": 53,
   "metadata": {
    "collapsed": false
   },
   "outputs": [
    {
     "data": {
      "text/html": [
       "<div>\n",
       "<style>\n",
       "    .dataframe thead tr:only-child th {\n",
       "        text-align: right;\n",
       "    }\n",
       "\n",
       "    .dataframe thead th {\n",
       "        text-align: left;\n",
       "    }\n",
       "\n",
       "    .dataframe tbody tr th {\n",
       "        vertical-align: top;\n",
       "    }\n",
       "</style>\n",
       "<table border=\"1\" class=\"dataframe\">\n",
       "  <thead>\n",
       "    <tr style=\"text-align: right;\">\n",
       "      <th></th>\n",
       "      <th>net_2G</th>\n",
       "      <th>net_3G</th>\n",
       "    </tr>\n",
       "    <tr>\n",
       "      <th>imsi</th>\n",
       "      <th></th>\n",
       "      <th></th>\n",
       "    </tr>\n",
       "  </thead>\n",
       "  <tbody>\n",
       "    <tr>\n",
       "      <th>00002ec9f6870677ca801c213ce87c02</th>\n",
       "      <td>0.0</td>\n",
       "      <td>1.0</td>\n",
       "    </tr>\n",
       "    <tr>\n",
       "      <th>0000be0fbdbe7f8ff47f7ec3e077e489</th>\n",
       "      <td>1.0</td>\n",
       "      <td>0.0</td>\n",
       "    </tr>\n",
       "    <tr>\n",
       "      <th>000166f550781551e1eb11cfcd3f4267</th>\n",
       "      <td>1.0</td>\n",
       "      <td>0.0</td>\n",
       "    </tr>\n",
       "    <tr>\n",
       "      <th>0001a48e7fca2e7e3279a5f275525cdb</th>\n",
       "      <td>1.0</td>\n",
       "      <td>0.0</td>\n",
       "    </tr>\n",
       "    <tr>\n",
       "      <th>0001b4ebaa72f0e4c2e79a0791bf3002</th>\n",
       "      <td>1.0</td>\n",
       "      <td>0.0</td>\n",
       "    </tr>\n",
       "  </tbody>\n",
       "</table>\n",
       "</div>"
      ],
      "text/plain": [
       "                                  net_2G  net_3G\n",
       "imsi                                            \n",
       "00002ec9f6870677ca801c213ce87c02     0.0     1.0\n",
       "0000be0fbdbe7f8ff47f7ec3e077e489     1.0     0.0\n",
       "000166f550781551e1eb11cfcd3f4267     1.0     0.0\n",
       "0001a48e7fca2e7e3279a5f275525cdb     1.0     0.0\n",
       "0001b4ebaa72f0e4c2e79a0791bf3002     1.0     0.0"
      ]
     },
     "execution_count": 53,
     "metadata": {},
     "output_type": "execute_result"
    }
   ],
   "source": [
    "test1_dabin = pd.DataFrame(xbin, columns=['{}_{}'.format(df_test1.name[:-2], x) for x in cat], index=df_test1.index)\n",
    "test1_dabin.head()"
   ]
  },
  {
   "cell_type": "code",
   "execution_count": null,
   "metadata": {
    "collapsed": true
   },
   "outputs": [],
   "source": [
    "ictype = {}\n",
    "ictype['catbin'] = ['net01','net02','net03','net04','net05','net06','net07','net08','net09','net10','net11','net12']"
   ]
  },
  {
   "cell_type": "code",
   "execution_count": 9,
   "metadata": {
    "collapsed": true
   },
   "outputs": [],
   "source": [
    "def Cat_to_bin(das, a = 0.01):\n",
    "    '''Transfrom a categorical column to onehotencoding'''\n",
    "    tmp = pd.value_counts(das)/das.shape[0]\n",
    "    cat = list(tmp.index[tmp > a])\n",
    "    enc = OneHotEncoder(n_values = len(cat)+1, sparse = False)\n",
    "    xbin = enc.fit_transform(np.transpose(\n",
    "            [das.astype(\"category\").cat.set_categories(cat).cat.rename_categories(1+np.arange(len(cat))).astype(\"float\").fillna(0).values]))[:,1:]     \n",
    "    dabin = pd.DataFrame(xbin, columns = [\"{}_{}\".format(das.name, x) for x in cat], index = das.index)    # origin\n",
    "#     dabin = pd.DataFrame(xbin, columns = [\"{}_{}\".format(das.name, x) for x in (1+np.arange(len(cat)))], index = das.index) \n",
    "    if(tmp[tmp <= a].sum() > a):\n",
    "        dabin = pd.concat([dabin, pd.DataFrame({\"{}_Others\".format(das.name):das.notnull()-dabin.sum(axis = 1)})], axis = 1)\n",
    "    if(dabin.shape[1] == 2):\n",
    "        dabin = pd.DataFrame({das.name: xbin[:,0]}, index = das.index)\n",
    "    return(dabin)"
   ]
  },
  {
   "cell_type": "code",
   "execution_count": 11,
   "metadata": {
    "collapsed": false
   },
   "outputs": [
    {
     "data": {
      "text/html": [
       "<div>\n",
       "<table border=\"1\" class=\"dataframe\">\n",
       "  <thead>\n",
       "    <tr style=\"text-align: right;\">\n",
       "      <th></th>\n",
       "      <th>mon01</th>\n",
       "    </tr>\n",
       "    <tr>\n",
       "      <th>imsi</th>\n",
       "      <th></th>\n",
       "    </tr>\n",
       "  </thead>\n",
       "  <tbody>\n",
       "    <tr>\n",
       "      <th>00002ec9f6870677ca801c213ce87c02</th>\n",
       "      <td>0</td>\n",
       "    </tr>\n",
       "    <tr>\n",
       "      <th>0000be0fbdbe7f8ff47f7ec3e077e489</th>\n",
       "      <td>1</td>\n",
       "    </tr>\n",
       "    <tr>\n",
       "      <th>000166f550781551e1eb11cfcd3f4267</th>\n",
       "      <td>1</td>\n",
       "    </tr>\n",
       "    <tr>\n",
       "      <th>0001a48e7fca2e7e3279a5f275525cdb</th>\n",
       "      <td>1</td>\n",
       "    </tr>\n",
       "    <tr>\n",
       "      <th>0001b4ebaa72f0e4c2e79a0791bf3002</th>\n",
       "      <td>1</td>\n",
       "    </tr>\n",
       "  </tbody>\n",
       "</table>\n",
       "</div>"
      ],
      "text/plain": [
       "                                  mon01\n",
       "imsi                                   \n",
       "00002ec9f6870677ca801c213ce87c02      0\n",
       "0000be0fbdbe7f8ff47f7ec3e077e489      1\n",
       "000166f550781551e1eb11cfcd3f4267      1\n",
       "0001a48e7fca2e7e3279a5f275525cdb      1\n",
       "0001b4ebaa72f0e4c2e79a0791bf3002      1"
      ]
     },
     "execution_count": 11,
     "metadata": {},
     "output_type": "execute_result"
    }
   ],
   "source": [
    "Cat_to_bin(df_net_piv.loc[:, ictype['catbin'][0]]).head()"
   ]
  },
  {
   "cell_type": "code",
   "execution_count": 13,
   "metadata": {
    "collapsed": false
   },
   "outputs": [
    {
     "data": {
      "text/html": [
       "<div>\n",
       "<table border=\"1\" class=\"dataframe\">\n",
       "  <thead>\n",
       "    <tr style=\"text-align: right;\">\n",
       "      <th></th>\n",
       "      <th>mon01</th>\n",
       "      <th>mon02</th>\n",
       "      <th>mon03</th>\n",
       "      <th>mon04</th>\n",
       "      <th>mon05</th>\n",
       "      <th>mon06</th>\n",
       "      <th>mon07</th>\n",
       "      <th>mon08</th>\n",
       "      <th>mon09</th>\n",
       "      <th>mon10</th>\n",
       "      <th>mon11</th>\n",
       "      <th>mon12</th>\n",
       "    </tr>\n",
       "    <tr>\n",
       "      <th>imsi</th>\n",
       "      <th></th>\n",
       "      <th></th>\n",
       "      <th></th>\n",
       "      <th></th>\n",
       "      <th></th>\n",
       "      <th></th>\n",
       "      <th></th>\n",
       "      <th></th>\n",
       "      <th></th>\n",
       "      <th></th>\n",
       "      <th></th>\n",
       "      <th></th>\n",
       "    </tr>\n",
       "  </thead>\n",
       "  <tbody>\n",
       "    <tr>\n",
       "      <th>00002ec9f6870677ca801c213ce87c02</th>\n",
       "      <td>0</td>\n",
       "      <td>0</td>\n",
       "      <td>0</td>\n",
       "      <td>0</td>\n",
       "      <td>0</td>\n",
       "      <td>0</td>\n",
       "      <td>0</td>\n",
       "      <td>0</td>\n",
       "      <td>0</td>\n",
       "      <td>0</td>\n",
       "      <td>0</td>\n",
       "      <td>0</td>\n",
       "    </tr>\n",
       "    <tr>\n",
       "      <th>0000be0fbdbe7f8ff47f7ec3e077e489</th>\n",
       "      <td>1</td>\n",
       "      <td>1</td>\n",
       "      <td>1</td>\n",
       "      <td>1</td>\n",
       "      <td>1</td>\n",
       "      <td>1</td>\n",
       "      <td>1</td>\n",
       "      <td>1</td>\n",
       "      <td>1</td>\n",
       "      <td>1</td>\n",
       "      <td>1</td>\n",
       "      <td>1</td>\n",
       "    </tr>\n",
       "    <tr>\n",
       "      <th>000166f550781551e1eb11cfcd3f4267</th>\n",
       "      <td>1</td>\n",
       "      <td>1</td>\n",
       "      <td>1</td>\n",
       "      <td>1</td>\n",
       "      <td>1</td>\n",
       "      <td>1</td>\n",
       "      <td>1</td>\n",
       "      <td>1</td>\n",
       "      <td>1</td>\n",
       "      <td>1</td>\n",
       "      <td>1</td>\n",
       "      <td>1</td>\n",
       "    </tr>\n",
       "    <tr>\n",
       "      <th>0001a48e7fca2e7e3279a5f275525cdb</th>\n",
       "      <td>1</td>\n",
       "      <td>1</td>\n",
       "      <td>1</td>\n",
       "      <td>1</td>\n",
       "      <td>1</td>\n",
       "      <td>1</td>\n",
       "      <td>1</td>\n",
       "      <td>1</td>\n",
       "      <td>1</td>\n",
       "      <td>1</td>\n",
       "      <td>1</td>\n",
       "      <td>1</td>\n",
       "    </tr>\n",
       "    <tr>\n",
       "      <th>0001b4ebaa72f0e4c2e79a0791bf3002</th>\n",
       "      <td>1</td>\n",
       "      <td>1</td>\n",
       "      <td>1</td>\n",
       "      <td>1</td>\n",
       "      <td>1</td>\n",
       "      <td>1</td>\n",
       "      <td>1</td>\n",
       "      <td>1</td>\n",
       "      <td>1</td>\n",
       "      <td>1</td>\n",
       "      <td>1</td>\n",
       "      <td>1</td>\n",
       "    </tr>\n",
       "  </tbody>\n",
       "</table>\n",
       "</div>"
      ],
      "text/plain": [
       "                                  mon01  mon02  mon03  mon04  mon05  mon06  \\\n",
       "imsi                                                                         \n",
       "00002ec9f6870677ca801c213ce87c02      0      0      0      0      0      0   \n",
       "0000be0fbdbe7f8ff47f7ec3e077e489      1      1      1      1      1      1   \n",
       "000166f550781551e1eb11cfcd3f4267      1      1      1      1      1      1   \n",
       "0001a48e7fca2e7e3279a5f275525cdb      1      1      1      1      1      1   \n",
       "0001b4ebaa72f0e4c2e79a0791bf3002      1      1      1      1      1      1   \n",
       "\n",
       "                                  mon07  mon08  mon09  mon10  mon11  mon12  \n",
       "imsi                                                                        \n",
       "00002ec9f6870677ca801c213ce87c02      0      0      0      0      0      0  \n",
       "0000be0fbdbe7f8ff47f7ec3e077e489      1      1      1      1      1      1  \n",
       "000166f550781551e1eb11cfcd3f4267      1      1      1      1      1      1  \n",
       "0001a48e7fca2e7e3279a5f275525cdb      1      1      1      1      1      1  \n",
       "0001b4ebaa72f0e4c2e79a0791bf3002      1      1      1      1      1      1  "
      ]
     },
     "execution_count": 13,
     "metadata": {},
     "output_type": "execute_result"
    }
   ],
   "source": [
    "dacatbin = pd.concat(map(lambda i: Cat_to_bin(df_net_piv.loc[:,i], a = 0.01), ictype['catbin']), axis = 1)\n",
    "dacatbin.head()"
   ]
  }
 ],
 "metadata": {
  "kernelspec": {
   "display_name": "Python 2",
   "language": "python",
   "name": "python2"
  },
  "language_info": {
   "codemirror_mode": {
    "name": "ipython",
    "version": 2
   },
   "file_extension": ".py",
   "mimetype": "text/x-python",
   "name": "python",
   "nbconvert_exporter": "python",
   "pygments_lexer": "ipython2",
   "version": "2.7.13"
  }
 },
 "nbformat": 4,
 "nbformat_minor": 0
}
