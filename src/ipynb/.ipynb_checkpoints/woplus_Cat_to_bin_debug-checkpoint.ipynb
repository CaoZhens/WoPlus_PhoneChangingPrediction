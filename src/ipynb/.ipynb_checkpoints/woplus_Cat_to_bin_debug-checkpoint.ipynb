{
 "cells": [
  {
   "cell_type": "code",
   "execution_count": 117,
   "metadata": {
    "collapsed": false
   },
   "outputs": [],
   "source": [
    "import numpy as np\n",
    "import pandas as pd\n",
    "title = 'woplus'\n",
    "path = '../../sources/data'"
   ]
  },
  {
   "cell_type": "code",
   "execution_count": 118,
   "metadata": {
    "collapsed": true
   },
   "outputs": [],
   "source": [
    "df_net = pd.read_table('{}/dataset_2015_filter_net.txt'.format(path), sep='|')\n",
    "df_net_piv = df_net.pivot(index='imsi', columns='mon', values='nettype')\n",
    "df_net_piv.columns = ['mon01','mon02','mon03','mon04','mon05','mon06','mon07','mon08','mon09','mon10','mon11','mon12']"
   ]
  },
  {
   "cell_type": "code",
   "execution_count": 146,
   "metadata": {
    "collapsed": false
   },
   "outputs": [
    {
     "data": {
      "text/plain": [
       "['2G', '3G']"
      ]
     },
     "execution_count": 146,
     "metadata": {},
     "output_type": "execute_result"
    }
   ],
   "source": [
    "das = df_net_piv.loc[:,'mon01']\n",
    "a = 0.01\n",
    "tmp = pd.value_counts(das)/das.shape[0]\n",
    "cat = list(tmp.index[tmp > a])\n",
    "cat"
   ]
  },
  {
   "cell_type": "code",
   "execution_count": 141,
   "metadata": {
    "collapsed": false
   },
   "outputs": [
    {
     "data": {
      "text/plain": [
       "2G    0.625362\n",
       "3G    0.374638\n",
       "Name: mon01, dtype: float64"
      ]
     },
     "execution_count": 141,
     "metadata": {},
     "output_type": "execute_result"
    }
   ],
   "source": [
    "tmp"
   ]
  },
  {
   "cell_type": "code",
   "execution_count": null,
   "metadata": {
    "collapsed": false
   },
   "outputs": [],
   "source": [
    "# test 测试 对list排序\n",
    "# cat.sort()\n",
    "# cat.sort(reverse=True)\n",
    "# cat"
   ]
  },
  {
   "cell_type": "code",
   "execution_count": 147,
   "metadata": {
    "collapsed": false
   },
   "outputs": [
    {
     "data": {
      "text/plain": [
       "array([[ 2.],\n",
       "       [ 1.],\n",
       "       [ 1.],\n",
       "       ..., \n",
       "       [ 2.],\n",
       "       [ 2.],\n",
       "       [ 1.]])"
      ]
     },
     "execution_count": 147,
     "metadata": {},
     "output_type": "execute_result"
    }
   ],
   "source": [
    "# cat = ['2G', '3G'] # 可以自己定义，否则不能保证顺序每次都一致\n",
    "cat.sort()   # 改良：使用cat前对cat进行一次排序，保证顺序一致\n",
    "# das.astype('category').cat.set_categories(['2G', '3G']).cat.rename_categories(1+np.arange(len(['2G', '3G']))).astype(\"float\").fillna(0).values\n",
    "# das.astype('category').cat.set_categories(['2G', '3G']).cat.rename_categories(1+np.arange(len(['2G', '3G']))).astype(\"float\").fillna(0).values[:, np.newaxis]\n",
    "df_net_cat = np.transpose([das.astype('category').cat.set_categories(cat).cat.rename_categories(1+np.arange(len(cat))).astype('float').fillna(0).values])\n",
    "df_net_cat"
   ]
  },
  {
   "cell_type": "code",
   "execution_count": 148,
   "metadata": {
    "collapsed": false
   },
   "outputs": [
    {
     "data": {
      "text/html": [
       "<div>\n",
       "<table border=\"1\" class=\"dataframe\">\n",
       "  <thead>\n",
       "    <tr style=\"text-align: right;\">\n",
       "      <th></th>\n",
       "      <th>mon01_2G</th>\n",
       "      <th>mon01_3G</th>\n",
       "    </tr>\n",
       "    <tr>\n",
       "      <th>imsi</th>\n",
       "      <th></th>\n",
       "      <th></th>\n",
       "    </tr>\n",
       "  </thead>\n",
       "  <tbody>\n",
       "    <tr>\n",
       "      <th>00002ec9f6870677ca801c213ce87c02</th>\n",
       "      <td>0</td>\n",
       "      <td>1</td>\n",
       "    </tr>\n",
       "    <tr>\n",
       "      <th>0000be0fbdbe7f8ff47f7ec3e077e489</th>\n",
       "      <td>1</td>\n",
       "      <td>0</td>\n",
       "    </tr>\n",
       "    <tr>\n",
       "      <th>000166f550781551e1eb11cfcd3f4267</th>\n",
       "      <td>1</td>\n",
       "      <td>0</td>\n",
       "    </tr>\n",
       "    <tr>\n",
       "      <th>0001a48e7fca2e7e3279a5f275525cdb</th>\n",
       "      <td>1</td>\n",
       "      <td>0</td>\n",
       "    </tr>\n",
       "    <tr>\n",
       "      <th>0001b4ebaa72f0e4c2e79a0791bf3002</th>\n",
       "      <td>1</td>\n",
       "      <td>0</td>\n",
       "    </tr>\n",
       "  </tbody>\n",
       "</table>\n",
       "</div>"
      ],
      "text/plain": [
       "                                  mon01_2G  mon01_3G\n",
       "imsi                                                \n",
       "00002ec9f6870677ca801c213ce87c02         0         1\n",
       "0000be0fbdbe7f8ff47f7ec3e077e489         1         0\n",
       "000166f550781551e1eb11cfcd3f4267         1         0\n",
       "0001a48e7fca2e7e3279a5f275525cdb         1         0\n",
       "0001b4ebaa72f0e4c2e79a0791bf3002         1         0"
      ]
     },
     "execution_count": 148,
     "metadata": {},
     "output_type": "execute_result"
    }
   ],
   "source": [
    "from sklearn.preprocessing import OneHotEncoder\n",
    "enc = OneHotEncoder(n_values = len(cat)+1, sparse = False)\n",
    "xbin = enc.fit_transform(df_net_cat)[:,1:]\n",
    "dabin = pd.DataFrame(xbin, columns = [\"{}_{}\".format(das.name, x) for x in cat], index = das.index)\n",
    "dabin.head()"
   ]
  },
  {
   "cell_type": "code",
   "execution_count": 145,
   "metadata": {
    "collapsed": false
   },
   "outputs": [
    {
     "data": {
      "text/plain": [
       "0.37463750838651727"
      ]
     },
     "execution_count": 145,
     "metadata": {},
     "output_type": "execute_result"
    }
   ],
   "source": [
    "# tmp[tmp <= a].sum()"
   ]
  },
  {
   "cell_type": "code",
   "execution_count": 150,
   "metadata": {
    "collapsed": false
   },
   "outputs": [
    {
     "data": {
      "text/html": [
       "<div>\n",
       "<table border=\"1\" class=\"dataframe\">\n",
       "  <thead>\n",
       "    <tr style=\"text-align: right;\">\n",
       "      <th></th>\n",
       "      <th>mon01</th>\n",
       "    </tr>\n",
       "    <tr>\n",
       "      <th>imsi</th>\n",
       "      <th></th>\n",
       "    </tr>\n",
       "  </thead>\n",
       "  <tbody>\n",
       "    <tr>\n",
       "      <th>00002ec9f6870677ca801c213ce87c02</th>\n",
       "      <td>0</td>\n",
       "    </tr>\n",
       "    <tr>\n",
       "      <th>0000be0fbdbe7f8ff47f7ec3e077e489</th>\n",
       "      <td>1</td>\n",
       "    </tr>\n",
       "    <tr>\n",
       "      <th>000166f550781551e1eb11cfcd3f4267</th>\n",
       "      <td>1</td>\n",
       "    </tr>\n",
       "    <tr>\n",
       "      <th>0001a48e7fca2e7e3279a5f275525cdb</th>\n",
       "      <td>1</td>\n",
       "    </tr>\n",
       "    <tr>\n",
       "      <th>0001b4ebaa72f0e4c2e79a0791bf3002</th>\n",
       "      <td>1</td>\n",
       "    </tr>\n",
       "  </tbody>\n",
       "</table>\n",
       "</div>"
      ],
      "text/plain": [
       "                                  mon01\n",
       "imsi                                   \n",
       "00002ec9f6870677ca801c213ce87c02      0\n",
       "0000be0fbdbe7f8ff47f7ec3e077e489      1\n",
       "000166f550781551e1eb11cfcd3f4267      1\n",
       "0001a48e7fca2e7e3279a5f275525cdb      1\n",
       "0001b4ebaa72f0e4c2e79a0791bf3002      1"
      ]
     },
     "execution_count": 150,
     "metadata": {},
     "output_type": "execute_result"
    }
   ],
   "source": [
    "if(tmp[tmp <= a].sum() > a):\n",
    "    dabin = pd.concat([dabin, pd.DataFrame({\"{}_Others\".format(das.name):das.notnull()-dabin.sum(axis = 1)})], axis = 1)\n",
    "if(dabin.shape[1] == 2):\n",
    "    dabin = pd.DataFrame({das.name: xbin[:,0]}, index = das.index)\n",
    "dabin.head()"
   ]
  }
 ],
 "metadata": {
  "kernelspec": {
   "display_name": "Python 2",
   "language": "python",
   "name": "python2"
  },
  "language_info": {
   "codemirror_mode": {
    "name": "ipython",
    "version": 2
   },
   "file_extension": ".py",
   "mimetype": "text/x-python",
   "name": "python",
   "nbconvert_exporter": "python",
   "pygments_lexer": "ipython2",
   "version": "2.7.13"
  }
 },
 "nbformat": 4,
 "nbformat_minor": 0
}
